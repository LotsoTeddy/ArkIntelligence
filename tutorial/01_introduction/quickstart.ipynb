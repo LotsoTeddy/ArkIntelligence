{
 "cells": [
  {
   "cell_type": "markdown",
   "metadata": {},
   "source": [
    "# Quickstart\n",
    "\n",
    "## Installation\n",
    "\n",
    "### API\n",
    "\n",
    "Set you api key in environment variables:\n",
    "\n",
    "```bash\n",
    "ARK_API_KEY=... python your_code.py\n",
    "```\n",
    "\n",
    "or in Python file:\n",
    "\n",
    "```python\n",
    "import os\n",
    "\n",
    "os.env['ARK_API_KEY'] = ...\n",
    "```\n",
    "### SDK"
   ]
  },
  {
   "cell_type": "code",
   "execution_count": null,
   "metadata": {
    "vscode": {
     "languageId": "plaintext"
    }
   },
   "outputs": [],
   "source": []
  },
  {
   "cell_type": "code",
   "execution_count": null,
   "metadata": {
    "vscode": {
     "languageId": "plaintext"
    }
   },
   "outputs": [],
   "source": []
  }
 ],
 "metadata": {
  "language_info": {
   "name": "python"
  }
 },
 "nbformat": 4,
 "nbformat_minor": 2
}
