{
 "cells": [
  {
   "cell_type": "markdown",
   "metadata": {},
   "source": [
    "# Introduction\n",
    "\n",
    "A freshman-friendly tutorial for Ark platform.\n",
    "\n",
    "## Overview\n",
    "\n",
    "### Why Ark?\n",
    "\n",
    "Ark is a platform that supports multiple kinds of models running.\n",
    "\n",
    "### Productions\n",
    "\n",
    "Productions in ARK, including models, agents and something else.\n",
    "\n",
    "### Rodemap\n",
    "\n",
    "Rodemap and primary changelog of Ark.\n",
    "\n",
    "## Installation\n",
    "\n",
    "Install Ark SDK from Github repository:"
   ]
  },
  {
   "cell_type": "code",
   "execution_count": null,
   "metadata": {},
   "outputs": [
    {
     "name": "stdout",
     "output_type": "stream",
     "text": [
      "Looking in indexes: https://mirrors.aliyun.com/pypi/simple/\n",
      "Collecting git+https://githubfast.com/LotsoTeddy/ArkIntelligence.git\n",
      "  Cloning https://githubfast.com/LotsoTeddy/ArkIntelligence.git to /tmp/pip-req-build-_sz8erv4\n",
      "  Running command git clone --filter=blob:none --quiet https://githubfast.com/LotsoTeddy/ArkIntelligence.git /tmp/pip-req-build-_sz8erv4\n",
      "  Resolved https://githubfast.com/LotsoTeddy/ArkIntelligence.git to commit 35c9ef639efcf94d767ca215bdc0bbe42d3729ae\n",
      "  Preparing metadata (setup.py) ... \u001b[?25ldone\n",
      "\u001b[?25hCollecting requests (from ArkIntelligence==1.0.0)\n",
      "  Downloading https://mirrors.aliyun.com/pypi/packages/f9/9b/335f9764261e915ed497fcdeb11df5dfd6f7bf257d4a6a2a686d80da4d54/requests-2.32.3-py3-none-any.whl (64 kB)\n",
      "Collecting openai>=1.0 (from ArkIntelligence==1.0.0)\n",
      "  Downloading https://mirrors.aliyun.com/pypi/packages/e2/39/c4b38317d2c702c4bc763957735aaeaf30dfc43b5b824121c49a4ba7ba0f/openai-1.70.0-py3-none-any.whl (599 kB)\n",
      "\u001b[2K     \u001b[90m━━━━━━━━━━━━━━━━━━━━━━━━━━━━━━━━━━━━━━━\u001b[0m \u001b[32m599.1/599.1 kB\u001b[0m \u001b[31m9.0 MB/s\u001b[0m eta \u001b[36m0:00:00\u001b[0m\n",
      "\u001b[?25hCollecting docstring_parser (from ArkIntelligence==1.0.0)\n",
      "  Downloading https://mirrors.aliyun.com/pypi/packages/d5/7c/e9fcff7623954d86bdc17782036cbf715ecab1bec4847c008557affe1ca8/docstring_parser-0.16-py3-none-any.whl (36 kB)\n",
      "Requirement already satisfied: volcengine in /root/.local/lib/python3.10/site-packages (from ArkIntelligence==1.0.0) (1.0.177)\n",
      "Collecting llama-index (from ArkIntelligence==1.0.0)\n",
      "  Downloading https://mirrors.aliyun.com/pypi/packages/6d/41/cc68ade7cd6d2e12b813b20709a2651e0e76ec4775a673197f914cddb265/llama_index-0.12.27-py3-none-any.whl (7.0 kB)\n",
      "Collecting loguru (from ArkIntelligence==1.0.0)\n",
      "  Downloading https://mirrors.aliyun.com/pypi/packages/0c/29/0348de65b8cc732daa3e33e67806420b2ae89bdce2b04af740289c5c6c8c/loguru-0.7.3-py3-none-any.whl (61 kB)\n",
      "Collecting anyio<5,>=3.5.0 (from openai>=1.0->ArkIntelligence==1.0.0)\n",
      "  Downloading https://mirrors.aliyun.com/pypi/packages/a1/ee/48ca1a7c89ffec8b6a0c5d02b89c305671d5ffd8d3c94acf8b8c408575bb/anyio-4.9.0-py3-none-any.whl (100 kB)\n",
      "Collecting distro<2,>=1.7.0 (from openai>=1.0->ArkIntelligence==1.0.0)\n",
      "  Downloading https://mirrors.aliyun.com/pypi/packages/12/b3/231ffd4ab1fc9d679809f356cebee130ac7daa00d6d6f3206dd4fd137e9e/distro-1.9.0-py3-none-any.whl (20 kB)\n",
      "Collecting httpx<1,>=0.23.0 (from openai>=1.0->ArkIntelligence==1.0.0)\n",
      "  Downloading https://mirrors.aliyun.com/pypi/packages/2a/39/e50c7c3a983047577ee07d2a9e53faf5a69493943ec3f6a384bdc792deb2/httpx-0.28.1-py3-none-any.whl (73 kB)\n",
      "Collecting jiter<1,>=0.4.0 (from openai>=1.0->ArkIntelligence==1.0.0)\n",
      "  Downloading https://mirrors.aliyun.com/pypi/packages/ac/a2/522039e522a10bac2f2194f50e183a49a360d5f63ebf46f6d890ef8aa3f9/jiter-0.9.0-cp310-cp310-manylinux_2_17_x86_64.manylinux2014_x86_64.whl (352 kB)\n",
      "Collecting pydantic<3,>=1.9.0 (from openai>=1.0->ArkIntelligence==1.0.0)\n",
      "  Downloading https://mirrors.aliyun.com/pypi/packages/cc/12/f9221a949f2419e2e23847303c002476c26fbcfd62dc7f3d25d0bec5ca99/pydantic-2.11.1-py3-none-any.whl (442 kB)\n",
      "Collecting sniffio (from openai>=1.0->ArkIntelligence==1.0.0)\n",
      "  Downloading https://mirrors.aliyun.com/pypi/packages/e9/44/75a9c9421471a6c4805dbf2356f7c181a29c1879239abab1ea2cc8f38b40/sniffio-1.3.1-py3-none-any.whl (10 kB)\n",
      "Collecting tqdm>4 (from openai>=1.0->ArkIntelligence==1.0.0)\n",
      "  Downloading https://mirrors.aliyun.com/pypi/packages/d0/30/dc54f88dd4a2b5dc8a0279bdd7270e735851848b762aeb1c1184ed1f6b14/tqdm-4.67.1-py3-none-any.whl (78 kB)\n",
      "Requirement already satisfied: typing-extensions<5,>=4.11 in /root/miniconda3/envs/arkintelligence/lib/python3.10/site-packages (from openai>=1.0->ArkIntelligence==1.0.0) (4.13.0)\n",
      "Collecting llama-index-agent-openai<0.5.0,>=0.4.0 (from llama-index->ArkIntelligence==1.0.0)\n",
      "  Downloading https://mirrors.aliyun.com/pypi/packages/8a/1f/a0e2eed0417b1f3b6a51da159eb57640f0501e74fd502f83a254b3a55054/llama_index_agent_openai-0.4.6-py3-none-any.whl (13 kB)\n",
      "Collecting llama-index-cli<0.5.0,>=0.4.1 (from llama-index->ArkIntelligence==1.0.0)\n",
      "  Downloading https://mirrors.aliyun.com/pypi/packages/ae/fa/2ee58764d733e9b5d61036ba6c8c96adcdb567ea16a62c247519fbf34c13/llama_index_cli-0.4.1-py3-none-any.whl (28 kB)\n",
      "Collecting llama-index-core<0.13.0,>=0.12.27 (from llama-index->ArkIntelligence==1.0.0)\n",
      "  Downloading https://mirrors.aliyun.com/pypi/packages/a0/99/75c84926be53a9c87992d66f1ad503f9248cb8fbc0c1e17943a62a27ce8f/llama_index_core-0.12.27-py3-none-any.whl (1.6 MB)\n",
      "\u001b[2K     \u001b[90m━━━━━━━━━━━━━━━━━━━━━━━━━━━━━━━━━━━━━━━━\u001b[0m \u001b[32m1.6/1.6 MB\u001b[0m \u001b[31m18.3 MB/s\u001b[0m eta \u001b[36m0:00:00\u001b[0m\n",
      "\u001b[?25hCollecting llama-index-embeddings-openai<0.4.0,>=0.3.0 (from llama-index->ArkIntelligence==1.0.0)\n",
      "  Downloading https://mirrors.aliyun.com/pypi/packages/bb/45/ca55b91c4ac1b6251d4099fa44121a6c012129822906cadcc27b8cfb33a4/llama_index_embeddings_openai-0.3.1-py3-none-any.whl (6.2 kB)\n",
      "Collecting llama-index-indices-managed-llama-cloud>=0.4.0 (from llama-index->ArkIntelligence==1.0.0)\n",
      "  Downloading https://mirrors.aliyun.com/pypi/packages/bd/9d/9c10f95a2b98db228c0bb0930a629970c0dfefd9cad9ef89527f8b50a888/llama_index_indices_managed_llama_cloud-0.6.10-py3-none-any.whl (14 kB)\n",
      "Collecting llama-index-llms-openai<0.4.0,>=0.3.0 (from llama-index->ArkIntelligence==1.0.0)\n",
      "  Downloading https://mirrors.aliyun.com/pypi/packages/8b/92/8478adaee1e9ad59da61e2f642c024b578ada31cf0425aa139ca60463dd3/llama_index_llms_openai-0.3.29-py3-none-any.whl (23 kB)\n",
      "Collecting llama-index-multi-modal-llms-openai<0.5.0,>=0.4.0 (from llama-index->ArkIntelligence==1.0.0)\n",
      "  Downloading https://mirrors.aliyun.com/pypi/packages/75/90/7a5a44959192b739718618d6fbfb5be8d21909dbd81865b9d4bb45a8bc89/llama_index_multi_modal_llms_openai-0.4.3-py3-none-any.whl (5.9 kB)\n",
      "Collecting llama-index-program-openai<0.4.0,>=0.3.0 (from llama-index->ArkIntelligence==1.0.0)\n",
      "  Downloading https://mirrors.aliyun.com/pypi/packages/00/59/3f31171c30a08c8ba21155d5241ba174630e57cf43b03d97fd77bf565b51/llama_index_program_openai-0.3.1-py3-none-any.whl (5.3 kB)\n",
      "Collecting llama-index-question-gen-openai<0.4.0,>=0.3.0 (from llama-index->ArkIntelligence==1.0.0)\n",
      "  Downloading https://mirrors.aliyun.com/pypi/packages/7c/2c/765b0dfc2c988bbea267e236c836d7a96c60a20df76d842e43e17401f800/llama_index_question_gen_openai-0.3.0-py3-none-any.whl (2.9 kB)\n",
      "Collecting llama-index-readers-file<0.5.0,>=0.4.0 (from llama-index->ArkIntelligence==1.0.0)\n",
      "  Downloading https://mirrors.aliyun.com/pypi/packages/53/8c/d40d3dbee8012b320aacfdeb131e834bc37f3cb2b978a514d2ff5c4ffd47/llama_index_readers_file-0.4.7-py3-none-any.whl (40 kB)\n",
      "Collecting llama-index-readers-llama-parse>=0.4.0 (from llama-index->ArkIntelligence==1.0.0)\n",
      "  Downloading https://mirrors.aliyun.com/pypi/packages/68/4f/e30d4257fe9e4224f5612b77fe99aaceddae411b2e74ca30534491de3e6f/llama_index_readers_llama_parse-0.4.0-py3-none-any.whl (2.5 kB)\n",
      "Collecting nltk>3.8.1 (from llama-index->ArkIntelligence==1.0.0)\n",
      "  Downloading https://mirrors.aliyun.com/pypi/packages/4d/66/7d9e26593edda06e8cb531874633f7c2372279c3b0f46235539fe546df8b/nltk-3.9.1-py3-none-any.whl (1.5 MB)\n",
      "\u001b[2K     \u001b[90m━━━━━━━━━━━━━━━━━━━━━━━━━━━━━━━━━━━━━━━━\u001b[0m \u001b[32m1.5/1.5 MB\u001b[0m \u001b[31m23.1 MB/s\u001b[0m eta \u001b[36m0:00:00\u001b[0m\n",
      "\u001b[?25hCollecting charset-normalizer<4,>=2 (from requests->ArkIntelligence==1.0.0)\n",
      "  Downloading https://mirrors.aliyun.com/pypi/packages/93/62/5e89cdfe04584cb7f4d36003ffa2936681b03ecc0754f8e969c2becb7e24/charset_normalizer-3.4.1-cp310-cp310-manylinux_2_17_x86_64.manylinux2014_x86_64.whl (146 kB)\n",
      "Collecting idna<4,>=2.5 (from requests->ArkIntelligence==1.0.0)\n",
      "  Downloading https://mirrors.aliyun.com/pypi/packages/76/c6/c88e154df9c4e1a2a66ccf0005a88dfb2650c1dffb6f5ce603dfbd452ce3/idna-3.10-py3-none-any.whl (70 kB)\n",
      "Collecting urllib3<3,>=1.21.1 (from requests->ArkIntelligence==1.0.0)\n",
      "  Downloading https://mirrors.aliyun.com/pypi/packages/c8/19/4ec628951a74043532ca2cf5d97b7b14863931476d117c471e8e2b1eb39f/urllib3-2.3.0-py3-none-any.whl (128 kB)\n",
      "Collecting certifi>=2017.4.17 (from requests->ArkIntelligence==1.0.0)\n",
      "  Downloading https://mirrors.aliyun.com/pypi/packages/38/fc/bce832fd4fd99766c04d1ee0eead6b0ec6486fb100ae5e74c1d91292b982/certifi-2025.1.31-py3-none-any.whl (166 kB)\n",
      "Requirement already satisfied: retry==0.9.2 in /root/.local/lib/python3.10/site-packages (from volcengine->ArkIntelligence==1.0.0) (0.9.2)\n",
      "Collecting pytz==2020.5 (from volcengine->ArkIntelligence==1.0.0)\n",
      "  Downloading https://mirrors.aliyun.com/pypi/packages/89/06/2c2d3034b4d6bf22f2a4ae546d16925898658a33b4400cfb7e2c1e2871a3/pytz-2020.5-py2.py3-none-any.whl (510 kB)\n",
      "Requirement already satisfied: pycryptodome==3.9.9 in /root/.local/lib/python3.10/site-packages (from volcengine->ArkIntelligence==1.0.0) (3.9.9)\n",
      "Collecting protobuf>=3.18.3 (from volcengine->ArkIntelligence==1.0.0)\n",
      "  Downloading https://mirrors.aliyun.com/pypi/packages/28/50/1925de813499546bc8ab3ae857e3ec84efe7d2f19b34529d0c7c3d02d11d/protobuf-6.30.2-cp39-abi3-manylinux2014_x86_64.whl (316 kB)\n",
      "Requirement already satisfied: google>=3.0.0 in /root/.local/lib/python3.10/site-packages (from volcengine->ArkIntelligence==1.0.0) (3.0.0)\n",
      "Requirement already satisfied: six>=1.0 in /root/miniconda3/envs/arkintelligence/lib/python3.10/site-packages (from volcengine->ArkIntelligence==1.0.0) (1.17.0)\n",
      "Requirement already satisfied: decorator>=3.4.2 in /root/.local/lib/python3.10/site-packages (from retry==0.9.2->volcengine->ArkIntelligence==1.0.0) (5.2.1)\n",
      "Requirement already satisfied: py<2.0.0,>=1.4.26 in /root/.local/lib/python3.10/site-packages (from retry==0.9.2->volcengine->ArkIntelligence==1.0.0) (1.11.0)\n",
      "Requirement already satisfied: exceptiongroup>=1.0.2 in /root/miniconda3/envs/arkintelligence/lib/python3.10/site-packages (from anyio<5,>=3.5.0->openai>=1.0->ArkIntelligence==1.0.0) (1.2.2)\n",
      "Requirement already satisfied: beautifulsoup4 in /root/.local/lib/python3.10/site-packages (from google>=3.0.0->volcengine->ArkIntelligence==1.0.0) (4.13.3)\n",
      "Collecting httpcore==1.* (from httpx<1,>=0.23.0->openai>=1.0->ArkIntelligence==1.0.0)\n",
      "  Downloading https://mirrors.aliyun.com/pypi/packages/87/f5/72347bc88306acb359581ac4d52f23c0ef445b57157adedb9aee0cd689d2/httpcore-1.0.7-py3-none-any.whl (78 kB)\n",
      "Collecting h11<0.15,>=0.13 (from httpcore==1.*->httpx<1,>=0.23.0->openai>=1.0->ArkIntelligence==1.0.0)\n",
      "  Downloading https://mirrors.aliyun.com/pypi/packages/95/04/ff642e65ad6b90db43e668d70ffb6736436c7ce41fcc549f4e9472234127/h11-0.14.0-py3-none-any.whl (58 kB)\n",
      "Collecting PyYAML>=6.0.1 (from llama-index-core<0.13.0,>=0.12.27->llama-index->ArkIntelligence==1.0.0)\n",
      "  Downloading https://mirrors.aliyun.com/pypi/packages/6b/4e/1523cb902fd98355e2e9ea5e5eb237cbc5f3ad5f3075fa65087aa0ecb669/PyYAML-6.0.2-cp310-cp310-manylinux_2_17_x86_64.manylinux2014_x86_64.whl (751 kB)\n",
      "\u001b[2K     \u001b[90m━━━━━━━━━━━━━━━━━━━━━━━━━━━━━━━━━━━━━━\u001b[0m \u001b[32m751.2/751.2 kB\u001b[0m \u001b[31m24.5 MB/s\u001b[0m eta \u001b[36m0:00:00\u001b[0m\n",
      "\u001b[?25hCollecting SQLAlchemy>=1.4.49 (from SQLAlchemy[asyncio]>=1.4.49->llama-index-core<0.13.0,>=0.12.27->llama-index->ArkIntelligence==1.0.0)\n",
      "  Downloading https://mirrors.aliyun.com/pypi/packages/94/3f/ceb9ab214b2e42d2e74a9209b3a2f2f073504eee16cddd2df81feeb67c2f/sqlalchemy-2.0.40-cp310-cp310-manylinux_2_17_x86_64.manylinux2014_x86_64.whl (3.1 MB)\n",
      "\u001b[2K     \u001b[90m━━━━━━━━━━━━━━━━━━━━━━━━━━━━━━━━━━━━━━━━\u001b[0m \u001b[32m3.1/3.1 MB\u001b[0m \u001b[31m25.7 MB/s\u001b[0m eta \u001b[36m0:00:00\u001b[0m\n",
      "\u001b[?25hCollecting aiohttp<4.0.0,>=3.8.6 (from llama-index-core<0.13.0,>=0.12.27->llama-index->ArkIntelligence==1.0.0)\n",
      "  Downloading https://mirrors.aliyun.com/pypi/packages/cb/b8/37ac0983b2cfea4c52f37e432285a2e88f707e1c3bd1f1685d802f7fcb2e/aiohttp-3.11.15-cp310-cp310-manylinux_2_17_x86_64.manylinux2014_x86_64.whl (1.6 MB)\n",
      "\u001b[2K     \u001b[90m━━━━━━━━━━━━━━━━━━━━━━━━━━━━━━━━━━━━━━━━\u001b[0m \u001b[32m1.6/1.6 MB\u001b[0m \u001b[31m24.2 MB/s\u001b[0m eta \u001b[36m0:00:00\u001b[0m\n",
      "\u001b[?25hCollecting banks<3.0.0,>=2.0.0 (from llama-index-core<0.13.0,>=0.12.27->llama-index->ArkIntelligence==1.0.0)\n",
      "  Downloading https://mirrors.aliyun.com/pypi/packages/63/c0/94d7dbcea4c436eaaffd8faae6b74146a997d1bbe9042da596bf32650928/banks-2.1.1-py3-none-any.whl (28 kB)\n",
      "Collecting dataclasses-json (from llama-index-core<0.13.0,>=0.12.27->llama-index->ArkIntelligence==1.0.0)\n",
      "  Downloading https://mirrors.aliyun.com/pypi/packages/c3/be/d0d44e092656fe7a06b55e6103cbce807cdbdee17884a5367c68c9860853/dataclasses_json-0.6.7-py3-none-any.whl (28 kB)\n",
      "Collecting deprecated>=1.2.9.3 (from llama-index-core<0.13.0,>=0.12.27->llama-index->ArkIntelligence==1.0.0)\n",
      "  Downloading https://mirrors.aliyun.com/pypi/packages/6e/c6/ac0b6c1e2d138f1002bcf799d330bd6d85084fece321e662a14223794041/Deprecated-1.2.18-py2.py3-none-any.whl (10.0 kB)\n",
      "Collecting dirtyjson<2.0.0,>=1.0.8 (from llama-index-core<0.13.0,>=0.12.27->llama-index->ArkIntelligence==1.0.0)\n",
      "  Downloading https://mirrors.aliyun.com/pypi/packages/68/69/1bcf70f81de1b4a9f21b3a62ec0c83bdff991c88d6cc2267d02408457e88/dirtyjson-1.0.8-py3-none-any.whl (25 kB)\n",
      "Collecting filetype<2.0.0,>=1.2.0 (from llama-index-core<0.13.0,>=0.12.27->llama-index->ArkIntelligence==1.0.0)\n",
      "  Downloading https://mirrors.aliyun.com/pypi/packages/18/79/1b8fa1bb3568781e84c9200f951c735f3f157429f44be0495da55894d620/filetype-1.2.0-py2.py3-none-any.whl (19 kB)\n",
      "Collecting fsspec>=2023.5.0 (from llama-index-core<0.13.0,>=0.12.27->llama-index->ArkIntelligence==1.0.0)\n",
      "  Downloading https://mirrors.aliyun.com/pypi/packages/44/4b/e0cfc1a6f17e990f3e64b7d941ddc4acdc7b19d6edd51abf495f32b1a9e4/fsspec-2025.3.2-py3-none-any.whl (194 kB)\n",
      "Requirement already satisfied: nest-asyncio<2.0.0,>=1.5.8 in /root/miniconda3/envs/arkintelligence/lib/python3.10/site-packages (from llama-index-core<0.13.0,>=0.12.27->llama-index->ArkIntelligence==1.0.0) (1.6.0)\n",
      "Collecting networkx>=3.0 (from llama-index-core<0.13.0,>=0.12.27->llama-index->ArkIntelligence==1.0.0)\n",
      "  Downloading https://mirrors.aliyun.com/pypi/packages/b9/54/dd730b32ea14ea797530a4479b2ed46a6fb250f682a9cfb997e968bf0261/networkx-3.4.2-py3-none-any.whl (1.7 MB)\n",
      "\u001b[2K     \u001b[90m━━━━━━━━━━━━━━━━━━━━━━━━━━━━━━━━━━━━━━━━\u001b[0m \u001b[32m1.7/1.7 MB\u001b[0m \u001b[31m25.6 MB/s\u001b[0m eta \u001b[36m0:00:00\u001b[0m\n",
      "\u001b[?25hCollecting numpy (from llama-index-core<0.13.0,>=0.12.27->llama-index->ArkIntelligence==1.0.0)\n",
      "  Downloading https://mirrors.aliyun.com/pypi/packages/c2/07/2e5cc71193e3ef3a219ffcf6ca4858e46ea2be09c026ddd480d596b32867/numpy-2.2.4-cp310-cp310-manylinux_2_17_x86_64.manylinux2014_x86_64.whl (16.4 MB)\n",
      "\u001b[2K     \u001b[90m━━━━━━━━━━━━━━━━━━━━━━━━━━━━━━━━━━━━━━━━\u001b[0m \u001b[32m16.4/16.4 MB\u001b[0m \u001b[31m15.5 MB/s\u001b[0m eta \u001b[36m0:00:00\u001b[0ma \u001b[36m0:00:01\u001b[0m\n",
      "\u001b[?25hCollecting pillow>=9.0.0 (from llama-index-core<0.13.0,>=0.12.27->llama-index->ArkIntelligence==1.0.0)\n",
      "  Downloading https://mirrors.aliyun.com/pypi/packages/84/7a/cd0c3eaf4a28cb2a74bdd19129f7726277a7f30c4f8424cd27a62987d864/pillow-11.1.0-cp310-cp310-manylinux_2_28_x86_64.whl (4.5 MB)\n",
      "\u001b[2K     \u001b[90m━━━━━━━━━━━━━━━━━━━━━━━━━━━━━━━━━━━━━━━━\u001b[0m \u001b[32m4.5/4.5 MB\u001b[0m \u001b[31m25.5 MB/s\u001b[0m eta \u001b[36m0:00:00\u001b[0m\n",
      "\u001b[?25hCollecting tenacity!=8.4.0,<10.0.0,>=8.2.0 (from llama-index-core<0.13.0,>=0.12.27->llama-index->ArkIntelligence==1.0.0)\n",
      "  Downloading https://mirrors.aliyun.com/pypi/packages/b6/cb/b86984bed139586d01532a587464b5805f12e397594f19f931c4c2fbfa61/tenacity-9.0.0-py3-none-any.whl (28 kB)\n",
      "Collecting tiktoken>=0.3.3 (from llama-index-core<0.13.0,>=0.12.27->llama-index->ArkIntelligence==1.0.0)\n",
      "  Downloading https://mirrors.aliyun.com/pypi/packages/f1/95/cc2c6d79df8f113bdc6c99cdec985a878768120d87d839a34da4bd3ff90a/tiktoken-0.9.0-cp310-cp310-manylinux_2_17_x86_64.manylinux2014_x86_64.whl (1.2 MB)\n",
      "\u001b[2K     \u001b[90m━━━━━━━━━━━━━━━━━━━━━━━━━━━━━━━━━━━━━━━━\u001b[0m \u001b[32m1.2/1.2 MB\u001b[0m \u001b[31m24.8 MB/s\u001b[0m eta \u001b[36m0:00:00\u001b[0m\n",
      "\u001b[?25hCollecting typing-inspect>=0.8.0 (from llama-index-core<0.13.0,>=0.12.27->llama-index->ArkIntelligence==1.0.0)\n",
      "  Downloading https://mirrors.aliyun.com/pypi/packages/65/f3/107a22063bf27bdccf2024833d3445f4eea42b2e598abfbd46f6a63b6cb0/typing_inspect-0.9.0-py3-none-any.whl (8.8 kB)\n",
      "Collecting wrapt (from llama-index-core<0.13.0,>=0.12.27->llama-index->ArkIntelligence==1.0.0)\n",
      "  Downloading https://mirrors.aliyun.com/pypi/packages/90/ec/00759565518f268ed707dcc40f7eeec38637d46b098a1f5143bff488fe97/wrapt-1.17.2-cp310-cp310-manylinux_2_5_x86_64.manylinux1_x86_64.manylinux_2_17_x86_64.manylinux2014_x86_64.whl (82 kB)\n",
      "Collecting llama-cloud<0.2.0,>=0.1.13 (from llama-index-indices-managed-llama-cloud>=0.4.0->llama-index->ArkIntelligence==1.0.0)\n",
      "  Downloading https://mirrors.aliyun.com/pypi/packages/a6/f4/88fcca1f93dea61412f9a9167782d48e166b87cc5052c3badef87a26541e/llama_cloud-0.1.17-py3-none-any.whl (253 kB)\n",
      "Collecting pandas (from llama-index-readers-file<0.5.0,>=0.4.0->llama-index->ArkIntelligence==1.0.0)\n",
      "  Downloading https://mirrors.aliyun.com/pypi/packages/44/50/7db2cd5e6373ae796f0ddad3675268c8d59fb6076e66f0c339d61cea886b/pandas-2.2.3-cp310-cp310-manylinux_2_17_x86_64.manylinux2014_x86_64.whl (13.1 MB)\n",
      "\u001b[2K     \u001b[90m━━━━━━━━━━━━━━━━━━━━━━━━━━━━━━━━━━━━━━━━\u001b[0m \u001b[32m13.1/13.1 MB\u001b[0m \u001b[31m24.6 MB/s\u001b[0m eta \u001b[36m0:00:00\u001b[0ma \u001b[36m0:00:01\u001b[0m\n",
      "\u001b[?25hCollecting pypdf<6.0.0,>=5.1.0 (from llama-index-readers-file<0.5.0,>=0.4.0->llama-index->ArkIntelligence==1.0.0)\n",
      "  Downloading https://mirrors.aliyun.com/pypi/packages/0b/27/d83f8f2a03ca5408dc2cc84b49c0bf3fbf059398a6a2ea7c10acfe28859f/pypdf-5.4.0-py3-none-any.whl (302 kB)\n",
      "Collecting striprtf<0.0.27,>=0.0.26 (from llama-index-readers-file<0.5.0,>=0.4.0->llama-index->ArkIntelligence==1.0.0)\n",
      "  Downloading https://mirrors.aliyun.com/pypi/packages/a3/cf/0fea4f4ba3fc2772ac2419278aa9f6964124d4302117d61bc055758e000c/striprtf-0.0.26-py3-none-any.whl (6.9 kB)\n",
      "Collecting llama-parse>=0.5.0 (from llama-index-readers-llama-parse>=0.4.0->llama-index->ArkIntelligence==1.0.0)\n",
      "  Downloading https://mirrors.aliyun.com/pypi/packages/77/d5/9e360e31fb5852842c434043c2a7ba6714a363546b5adeedff537fae5e0d/llama_parse-0.6.4.post1-py3-none-any.whl (4.9 kB)\n",
      "Collecting click (from nltk>3.8.1->llama-index->ArkIntelligence==1.0.0)\n",
      "  Downloading https://mirrors.aliyun.com/pypi/packages/7e/d4/7ebdbd03970677812aac39c869717059dbb71a4cfc033ca6e5221787892c/click-8.1.8-py3-none-any.whl (98 kB)\n",
      "Collecting joblib (from nltk>3.8.1->llama-index->ArkIntelligence==1.0.0)\n",
      "  Downloading https://mirrors.aliyun.com/pypi/packages/91/29/df4b9b42f2be0b623cbd5e2140cafcaa2bef0759a00b7b70104dcfe2fb51/joblib-1.4.2-py3-none-any.whl (301 kB)\n",
      "Collecting regex>=2021.8.3 (from nltk>3.8.1->llama-index->ArkIntelligence==1.0.0)\n",
      "  Downloading https://mirrors.aliyun.com/pypi/packages/f2/98/26d3830875b53071f1f0ae6d547f1d98e964dd29ad35cbf94439120bb67a/regex-2024.11.6-cp310-cp310-manylinux_2_17_x86_64.manylinux2014_x86_64.whl (781 kB)\n",
      "\u001b[2K     \u001b[90m━━━━━━━━━━━━━━━━━━━━━━━━━━━━━━━━━━━━━━\u001b[0m \u001b[32m781.7/781.7 kB\u001b[0m \u001b[31m24.7 MB/s\u001b[0m eta \u001b[36m0:00:00\u001b[0m\n",
      "\u001b[?25hCollecting annotated-types>=0.6.0 (from pydantic<3,>=1.9.0->openai>=1.0->ArkIntelligence==1.0.0)\n",
      "  Downloading https://mirrors.aliyun.com/pypi/packages/78/b6/6307fbef88d9b5ee7421e68d78a9f162e0da4900bc5f5793f6d3d0e34fb8/annotated_types-0.7.0-py3-none-any.whl (13 kB)\n",
      "Collecting pydantic-core==2.33.0 (from pydantic<3,>=1.9.0->openai>=1.0->ArkIntelligence==1.0.0)\n",
      "  Downloading https://mirrors.aliyun.com/pypi/packages/53/80/b4879de375cdf3718d05fcb60c9aa1f119d28e261dafa51b6a69c78f7178/pydantic_core-2.33.0-cp310-cp310-manylinux_2_17_x86_64.manylinux2014_x86_64.whl (2.0 MB)\n",
      "\u001b[2K     \u001b[90m━━━━━━━━━━━━━━━━━━━━━━━━━━━━━━━━━━━━━━━━\u001b[0m \u001b[32m2.0/2.0 MB\u001b[0m \u001b[31m23.3 MB/s\u001b[0m eta \u001b[36m0:00:00\u001b[0m\n",
      "\u001b[?25hCollecting typing-inspection>=0.4.0 (from pydantic<3,>=1.9.0->openai>=1.0->ArkIntelligence==1.0.0)\n",
      "  Downloading https://mirrors.aliyun.com/pypi/packages/31/08/aa4fdfb71f7de5176385bd9e90852eaf6b5d622735020ad600f2bab54385/typing_inspection-0.4.0-py3-none-any.whl (14 kB)\n",
      "Collecting aiohappyeyeballs>=2.3.0 (from aiohttp<4.0.0,>=3.8.6->llama-index-core<0.13.0,>=0.12.27->llama-index->ArkIntelligence==1.0.0)\n",
      "  Downloading https://mirrors.aliyun.com/pypi/packages/0f/15/5bf3b99495fb160b63f95972b81750f18f7f4e02ad051373b669d17d44f2/aiohappyeyeballs-2.6.1-py3-none-any.whl (15 kB)\n",
      "Collecting aiosignal>=1.1.2 (from aiohttp<4.0.0,>=3.8.6->llama-index-core<0.13.0,>=0.12.27->llama-index->ArkIntelligence==1.0.0)\n",
      "  Downloading https://mirrors.aliyun.com/pypi/packages/ec/6a/bc7e17a3e87a2985d3e8f4da4cd0f481060eb78fb08596c42be62c90a4d9/aiosignal-1.3.2-py2.py3-none-any.whl (7.6 kB)\n",
      "Collecting async-timeout<6.0,>=4.0 (from aiohttp<4.0.0,>=3.8.6->llama-index-core<0.13.0,>=0.12.27->llama-index->ArkIntelligence==1.0.0)\n",
      "  Downloading https://mirrors.aliyun.com/pypi/packages/fe/ba/e2081de779ca30d473f21f5b30e0e737c438205440784c7dfc81efc2b029/async_timeout-5.0.1-py3-none-any.whl (6.2 kB)\n",
      "Collecting attrs>=17.3.0 (from aiohttp<4.0.0,>=3.8.6->llama-index-core<0.13.0,>=0.12.27->llama-index->ArkIntelligence==1.0.0)\n",
      "  Downloading https://mirrors.aliyun.com/pypi/packages/77/06/bb80f5f86020c4551da315d78b3ab75e8228f89f0162f2c3a819e407941a/attrs-25.3.0-py3-none-any.whl (63 kB)\n",
      "Collecting frozenlist>=1.1.1 (from aiohttp<4.0.0,>=3.8.6->llama-index-core<0.13.0,>=0.12.27->llama-index->ArkIntelligence==1.0.0)\n",
      "  Downloading https://mirrors.aliyun.com/pypi/packages/ee/59/928322800306f6529d1852323014ee9008551e9bb027cc38d276cbc0b0e7/frozenlist-1.5.0-cp310-cp310-manylinux_2_5_x86_64.manylinux1_x86_64.manylinux_2_17_x86_64.manylinux2014_x86_64.whl (241 kB)\n",
      "Collecting multidict<7.0,>=4.5 (from aiohttp<4.0.0,>=3.8.6->llama-index-core<0.13.0,>=0.12.27->llama-index->ArkIntelligence==1.0.0)\n",
      "  Downloading https://mirrors.aliyun.com/pypi/packages/12/6d/cd6e9a57431a8327ddee272e0338acd2a215991cf92d1fdf467bf8a8c594/multidict-6.3.0-cp310-cp310-manylinux_2_17_x86_64.manylinux2014_x86_64.whl (229 kB)\n",
      "Collecting propcache>=0.2.0 (from aiohttp<4.0.0,>=3.8.6->llama-index-core<0.13.0,>=0.12.27->llama-index->ArkIntelligence==1.0.0)\n",
      "  Downloading https://mirrors.aliyun.com/pypi/packages/7c/e4/4aeb95a1cd085e0558ab0de95abfc5187329616193a1012a6c4c930e9f7a/propcache-0.3.1-cp310-cp310-manylinux_2_17_x86_64.manylinux2014_x86_64.whl (206 kB)\n",
      "Collecting yarl<2.0,>=1.17.0 (from aiohttp<4.0.0,>=3.8.6->llama-index-core<0.13.0,>=0.12.27->llama-index->ArkIntelligence==1.0.0)\n",
      "  Downloading https://mirrors.aliyun.com/pypi/packages/a9/42/b1753949b327b36f210899f2dd0a0947c0c74e42a32de3f8eb5c7d93edca/yarl-1.18.3-cp310-cp310-manylinux_2_17_x86_64.manylinux2014_x86_64.whl (319 kB)\n",
      "Collecting griffe (from banks<3.0.0,>=2.0.0->llama-index-core<0.13.0,>=0.12.27->llama-index->ArkIntelligence==1.0.0)\n",
      "  Downloading https://mirrors.aliyun.com/pypi/packages/1d/94/48e28b1c7402f750200e9e3ef4834c862ea85c64f426a231a6dc312f61a9/griffe-1.7.1-py3-none-any.whl (129 kB)\n",
      "Collecting jinja2 (from banks<3.0.0,>=2.0.0->llama-index-core<0.13.0,>=0.12.27->llama-index->ArkIntelligence==1.0.0)\n",
      "  Downloading https://mirrors.aliyun.com/pypi/packages/62/a1/3d680cbfd5f4b8f15abc1d571870c5fc3e594bb582bc3b64ea099db13e56/jinja2-3.1.6-py3-none-any.whl (134 kB)\n",
      "Requirement already satisfied: platformdirs in /root/miniconda3/envs/arkintelligence/lib/python3.10/site-packages (from banks<3.0.0,>=2.0.0->llama-index-core<0.13.0,>=0.12.27->llama-index->ArkIntelligence==1.0.0) (4.3.7)\n",
      "Requirement already satisfied: soupsieve>1.2 in /root/.local/lib/python3.10/site-packages (from beautifulsoup4->google>=3.0.0->volcengine->ArkIntelligence==1.0.0) (2.6)\n",
      "Collecting llama-cloud-services>=0.6.4 (from llama-parse>=0.5.0->llama-index-readers-llama-parse>=0.4.0->llama-index->ArkIntelligence==1.0.0)\n",
      "  Downloading https://mirrors.aliyun.com/pypi/packages/f3/8f/446aba7d8a378fddfde6d1464f1cbbb015bbb19af1f765dc669f5b7aac23/llama_cloud_services-0.6.9-py3-none-any.whl (29 kB)\n",
      "Collecting greenlet>=1 (from SQLAlchemy>=1.4.49->SQLAlchemy[asyncio]>=1.4.49->llama-index-core<0.13.0,>=0.12.27->llama-index->ArkIntelligence==1.0.0)\n",
      "  Downloading https://mirrors.aliyun.com/pypi/packages/cf/69/79e4d63b9387b48939096e25115b8af7cd8a90397a304f92436bcb21f5b2/greenlet-3.1.1-cp310-cp310-manylinux_2_24_x86_64.manylinux_2_28_x86_64.whl (599 kB)\n",
      "\u001b[2K     \u001b[90m━━━━━━━━━━━━━━━━━━━━━━━━━━━━━━━━━━━━━━\u001b[0m \u001b[32m599.5/599.5 kB\u001b[0m \u001b[31m18.2 MB/s\u001b[0m eta \u001b[36m0:00:00\u001b[0m\n",
      "\u001b[?25hCollecting mypy-extensions>=0.3.0 (from typing-inspect>=0.8.0->llama-index-core<0.13.0,>=0.12.27->llama-index->ArkIntelligence==1.0.0)\n",
      "  Downloading https://mirrors.aliyun.com/pypi/packages/2a/e2/5d3f6ada4297caebe1a2add3b126fe800c96f56dbe5d1988a2cbe0b267aa/mypy_extensions-1.0.0-py3-none-any.whl (4.7 kB)\n",
      "Collecting marshmallow<4.0.0,>=3.18.0 (from dataclasses-json->llama-index-core<0.13.0,>=0.12.27->llama-index->ArkIntelligence==1.0.0)\n",
      "  Downloading https://mirrors.aliyun.com/pypi/packages/34/75/51952c7b2d3873b44a0028b1bd26a25078c18f92f256608e8d1dc61b39fd/marshmallow-3.26.1-py3-none-any.whl (50 kB)\n",
      "Requirement already satisfied: python-dateutil>=2.8.2 in /root/miniconda3/envs/arkintelligence/lib/python3.10/site-packages (from pandas->llama-index-readers-file<0.5.0,>=0.4.0->llama-index->ArkIntelligence==1.0.0) (2.9.0.post0)\n",
      "Collecting tzdata>=2022.7 (from pandas->llama-index-readers-file<0.5.0,>=0.4.0->llama-index->ArkIntelligence==1.0.0)\n",
      "  Downloading https://mirrors.aliyun.com/pypi/packages/5c/23/c7abc0ca0a1526a0774eca151daeb8de62ec457e77262b66b359c3c7679e/tzdata-2025.2-py2.py3-none-any.whl (347 kB)\n",
      "Collecting python-dotenv<2.0.0,>=1.0.1 (from llama-cloud-services>=0.6.4->llama-parse>=0.5.0->llama-index-readers-llama-parse>=0.4.0->llama-index->ArkIntelligence==1.0.0)\n",
      "  Downloading https://mirrors.aliyun.com/pypi/packages/1e/18/98a99ad95133c6a6e2005fe89faedf294a748bd5dc803008059409ac9b1e/python_dotenv-1.1.0-py3-none-any.whl (20 kB)\n",
      "Requirement already satisfied: packaging>=17.0 in /root/miniconda3/envs/arkintelligence/lib/python3.10/site-packages (from marshmallow<4.0.0,>=3.18.0->dataclasses-json->llama-index-core<0.13.0,>=0.12.27->llama-index->ArkIntelligence==1.0.0) (24.2)\n",
      "Collecting colorama>=0.4 (from griffe->banks<3.0.0,>=2.0.0->llama-index-core<0.13.0,>=0.12.27->llama-index->ArkIntelligence==1.0.0)\n",
      "  Downloading https://mirrors.aliyun.com/pypi/packages/d1/d6/3965ed04c63042e047cb6a3e6ed1a63a35087b6a609aa3a15ed8ac56c221/colorama-0.4.6-py2.py3-none-any.whl (25 kB)\n",
      "Collecting MarkupSafe>=2.0 (from jinja2->banks<3.0.0,>=2.0.0->llama-index-core<0.13.0,>=0.12.27->llama-index->ArkIntelligence==1.0.0)\n",
      "  Downloading https://mirrors.aliyun.com/pypi/packages/22/35/137da042dfb4720b638d2937c38a9c2df83fe32d20e8c8f3185dbfef05f7/MarkupSafe-3.0.2-cp310-cp310-manylinux_2_17_x86_64.manylinux2014_x86_64.whl (20 kB)\n",
      "Building wheels for collected packages: ArkIntelligence\n",
      "  Building wheel for ArkIntelligence (setup.py) ... \u001b[?25ldone\n",
      "\u001b[?25h  Created wheel for ArkIntelligence: filename=ArkIntelligence-1.0.0-py3-none-any.whl size=13262 sha256=a2a4b2377e4c6677183bc06e51e627373a221fdd60d3e69018835a3674ca38c6\n",
      "  Stored in directory: /tmp/pip-ephem-wheel-cache-yaonwx17/wheels/be/c8/35/4db1f9ade531ea4dcdf1cd65d47f490cd197e0d3cabe7847a7\n",
      "Successfully built ArkIntelligence\n",
      "Installing collected packages: striprtf, pytz, filetype, dirtyjson, wrapt, urllib3, tzdata, typing-inspection, tqdm, tenacity, sniffio, regex, PyYAML, python-dotenv, pypdf, pydantic-core, protobuf, propcache, pillow, numpy, networkx, mypy-extensions, multidict, marshmallow, MarkupSafe, loguru, joblib, jiter, idna, h11, greenlet, fsspec, frozenlist, docstring_parser, distro, colorama, click, charset-normalizer, certifi, attrs, async-timeout, annotated-types, aiohappyeyeballs, yarl, typing-inspect, SQLAlchemy, requests, pydantic, pandas, nltk, jinja2, httpcore, griffe, deprecated, anyio, aiosignal, tiktoken, httpx, dataclasses-json, banks, aiohttp, openai, llama-index-core, llama-cloud, llama-index-readers-file, llama-index-llms-openai, llama-index-indices-managed-llama-cloud, llama-index-embeddings-openai, llama-cloud-services, llama-parse, llama-index-multi-modal-llms-openai, llama-index-cli, llama-index-agent-openai, llama-index-readers-llama-parse, llama-index-program-openai, llama-index-question-gen-openai, llama-index, ArkIntelligence\n",
      "Successfully installed ArkIntelligence-1.0.0 MarkupSafe-3.0.2 PyYAML-6.0.2 SQLAlchemy-2.0.40 aiohappyeyeballs-2.6.1 aiohttp-3.11.15 aiosignal-1.3.2 annotated-types-0.7.0 anyio-4.9.0 async-timeout-5.0.1 attrs-25.3.0 banks-2.1.1 certifi-2025.1.31 charset-normalizer-3.4.1 click-8.1.8 colorama-0.4.6 dataclasses-json-0.6.7 deprecated-1.2.18 dirtyjson-1.0.8 distro-1.9.0 docstring_parser-0.16 filetype-1.2.0 frozenlist-1.5.0 fsspec-2025.3.2 greenlet-3.1.1 griffe-1.7.1 h11-0.14.0 httpcore-1.0.7 httpx-0.28.1 idna-3.10 jinja2-3.1.6 jiter-0.9.0 joblib-1.4.2 llama-cloud-0.1.17 llama-cloud-services-0.6.9 llama-index-0.12.27 llama-index-agent-openai-0.4.6 llama-index-cli-0.4.1 llama-index-core-0.12.27 llama-index-embeddings-openai-0.3.1 llama-index-indices-managed-llama-cloud-0.6.10 llama-index-llms-openai-0.3.29 llama-index-multi-modal-llms-openai-0.4.3 llama-index-program-openai-0.3.1 llama-index-question-gen-openai-0.3.0 llama-index-readers-file-0.4.7 llama-index-readers-llama-parse-0.4.0 llama-parse-0.6.4.post1 loguru-0.7.3 marshmallow-3.26.1 multidict-6.3.0 mypy-extensions-1.0.0 networkx-3.4.2 nltk-3.9.1 numpy-2.2.4 openai-1.70.0 pandas-2.2.3 pillow-11.1.0 propcache-0.3.1 protobuf-6.30.2 pydantic-2.11.1 pydantic-core-2.33.0 pypdf-5.4.0 python-dotenv-1.1.0 pytz-2020.5 regex-2024.11.6 requests-2.32.3 sniffio-1.3.1 striprtf-0.0.26 tenacity-9.0.0 tiktoken-0.9.0 tqdm-4.67.1 typing-inspect-0.9.0 typing-inspection-0.4.0 tzdata-2025.2 urllib3-2.3.0 wrapt-1.17.2 yarl-1.18.3\n",
      "\u001b[33mWARNING: Running pip as the 'root' user can result in broken permissions and conflicting behaviour with the system package manager, possibly rendering your system unusable. It is recommended to use a virtual environment instead: https://pip.pypa.io/warnings/venv. Use the --root-user-action option if you know what you are doing and want to suppress this warning.\u001b[0m\u001b[33m\n",
      "\u001b[0m"
     ]
    }
   ],
   "source": [
    "!pip install git+https://github.com/LotsoTeddy/ArkIntelligence.git"
   ]
  },
  {
   "cell_type": "markdown",
   "metadata": {},
   "source": [
    "## Quickstart\n",
    "\n",
    "Before using the ArkIntelligence, set your api key as environment variable:"
   ]
  },
  {
   "cell_type": "code",
   "execution_count": 3,
   "metadata": {},
   "outputs": [],
   "source": [
    "import os\n",
    "\n",
    "os.environ[\"ARK_API_KEY\"] = \"your_ark_api_key\""
   ]
  },
  {
   "cell_type": "markdown",
   "metadata": {},
   "source": [
    "Then, you can chat with a model:"
   ]
  },
  {
   "cell_type": "code",
   "execution_count": 4,
   "metadata": {},
   "outputs": [
    {
     "ename": "ModuleNotFoundError",
     "evalue": "No module named 'arkintelligence.utils'",
     "output_type": "error",
     "traceback": [
      "\u001b[0;31m---------------------------------------------------------------------------\u001b[0m",
      "\u001b[0;31mModuleNotFoundError\u001b[0m                       Traceback (most recent call last)",
      "Cell \u001b[0;32mIn[4], line 1\u001b[0m\n\u001b[0;32m----> 1\u001b[0m \u001b[38;5;28;01mfrom\u001b[39;00m\u001b[38;5;250m \u001b[39m\u001b[38;5;21;01markintelligence\u001b[39;00m\u001b[38;5;21;01m.\u001b[39;00m\u001b[38;5;21;01mmodel\u001b[39;00m\u001b[38;5;250m \u001b[39m\u001b[38;5;28;01mimport\u001b[39;00m ArkModel\n\u001b[1;32m      3\u001b[0m model \u001b[38;5;241m=\u001b[39m ArkModel(model\u001b[38;5;241m=\u001b[39m\u001b[38;5;124m\"\u001b[39m\u001b[38;5;124mdoubao-1.5-pro-32k-250115\u001b[39m\u001b[38;5;124m\"\u001b[39m)\n\u001b[1;32m      5\u001b[0m response \u001b[38;5;241m=\u001b[39m model\u001b[38;5;241m.\u001b[39mchat(prompt\u001b[38;5;241m=\u001b[39m\u001b[38;5;124m\"\u001b[39m\u001b[38;5;124mWho are you?\u001b[39m\u001b[38;5;124m\"\u001b[39m)\n",
      "File \u001b[0;32m~/miniconda3/envs/arkintelligence/lib/python3.10/site-packages/arkintelligence/model/__init__.py:1\u001b[0m\n\u001b[0;32m----> 1\u001b[0m \u001b[38;5;28;01mfrom\u001b[39;00m\u001b[38;5;250m \u001b[39m\u001b[38;5;21;01markintelligence\u001b[39;00m\u001b[38;5;21;01m.\u001b[39;00m\u001b[38;5;21;01mmodel\u001b[39;00m\u001b[38;5;21;01m.\u001b[39;00m\u001b[38;5;21;01mArkModel\u001b[39;00m\u001b[38;5;250m \u001b[39m\u001b[38;5;28;01mimport\u001b[39;00m ArkModel\n\u001b[1;32m      3\u001b[0m __all__ \u001b[38;5;241m=\u001b[39m [\n\u001b[1;32m      4\u001b[0m     \u001b[38;5;124m\"\u001b[39m\u001b[38;5;124mArkModel\u001b[39m\u001b[38;5;124m\"\u001b[39m,\n\u001b[1;32m      5\u001b[0m ]\n",
      "File \u001b[0;32m~/miniconda3/envs/arkintelligence/lib/python3.10/site-packages/arkintelligence/model/ArkModel.py:5\u001b[0m\n\u001b[1;32m      2\u001b[0m \u001b[38;5;28;01mfrom\u001b[39;00m\u001b[38;5;250m \u001b[39m\u001b[38;5;21;01mtyping\u001b[39;00m\u001b[38;5;250m \u001b[39m\u001b[38;5;28;01mimport\u001b[39;00m List\n\u001b[1;32m      4\u001b[0m \u001b[38;5;28;01mfrom\u001b[39;00m\u001b[38;5;250m \u001b[39m\u001b[38;5;21;01markintelligence\u001b[39;00m\u001b[38;5;21;01m.\u001b[39;00m\u001b[38;5;21;01mbase\u001b[39;00m\u001b[38;5;250m \u001b[39m\u001b[38;5;28;01mimport\u001b[39;00m api_key_check\n\u001b[0;32m----> 5\u001b[0m \u001b[38;5;28;01mfrom\u001b[39;00m\u001b[38;5;250m \u001b[39m\u001b[38;5;21;01markintelligence\u001b[39;00m\u001b[38;5;21;01m.\u001b[39;00m\u001b[38;5;21;01mbase\u001b[39;00m\u001b[38;5;21;01m.\u001b[39;00m\u001b[38;5;21;01mapis\u001b[39;00m\u001b[38;5;250m \u001b[39m\u001b[38;5;28;01mimport\u001b[39;00m post_to_create_context, post_to_text_model\n\u001b[1;32m      6\u001b[0m \u001b[38;5;28;01mfrom\u001b[39;00m\u001b[38;5;250m \u001b[39m\u001b[38;5;21;01markintelligence\u001b[39;00m\u001b[38;5;21;01m.\u001b[39;00m\u001b[38;5;21;01mutils\u001b[39;00m\u001b[38;5;21;01m.\u001b[39;00m\u001b[38;5;21;01mlogger\u001b[39;00m\u001b[38;5;250m \u001b[39m\u001b[38;5;28;01mimport\u001b[39;00m logger\n\u001b[1;32m      9\u001b[0m \u001b[38;5;28;01mclass\u001b[39;00m\u001b[38;5;250m \u001b[39m\u001b[38;5;21;01mArkModel\u001b[39;00m:\n",
      "File \u001b[0;32m~/miniconda3/envs/arkintelligence/lib/python3.10/site-packages/arkintelligence/base/apis.py:8\u001b[0m\n\u001b[1;32m      6\u001b[0m \u001b[38;5;28;01mfrom\u001b[39;00m\u001b[38;5;250m \u001b[39m\u001b[38;5;21;01markintelligence\u001b[39;00m\u001b[38;5;21;01m.\u001b[39;00m\u001b[38;5;21;01mconfig\u001b[39;00m\u001b[38;5;250m \u001b[39m\u001b[38;5;28;01mimport\u001b[39;00m MODEL_URL_MAPPING\n\u001b[1;32m      7\u001b[0m \u001b[38;5;28;01mfrom\u001b[39;00m\u001b[38;5;250m \u001b[39m\u001b[38;5;21;01markintelligence\u001b[39;00m\u001b[38;5;21;01m.\u001b[39;00m\u001b[38;5;21;01mconfig\u001b[39;00m\u001b[38;5;21;01m.\u001b[39;00m\u001b[38;5;21;01murls\u001b[39;00m\u001b[38;5;250m \u001b[39m\u001b[38;5;28;01mimport\u001b[39;00m CONTEXT_API_BASE_URL\n\u001b[0;32m----> 8\u001b[0m \u001b[38;5;28;01mfrom\u001b[39;00m\u001b[38;5;250m \u001b[39m\u001b[38;5;21;01markintelligence\u001b[39;00m\u001b[38;5;21;01m.\u001b[39;00m\u001b[38;5;21;01mutils\u001b[39;00m\u001b[38;5;21;01m.\u001b[39;00m\u001b[38;5;21;01mlogger\u001b[39;00m\u001b[38;5;250m \u001b[39m\u001b[38;5;28;01mimport\u001b[39;00m logger\n\u001b[1;32m      9\u001b[0m \u001b[38;5;28;01mfrom\u001b[39;00m\u001b[38;5;250m \u001b[39m\u001b[38;5;21;01mopenai\u001b[39;00m\u001b[38;5;250m \u001b[39m\u001b[38;5;28;01mimport\u001b[39;00m OpenAI\n\u001b[1;32m     11\u001b[0m \u001b[38;5;66;03m# ======== 1. model related apis ========\u001b[39;00m\n",
      "\u001b[0;31mModuleNotFoundError\u001b[0m: No module named 'arkintelligence.utils'"
     ]
    }
   ],
   "source": [
    "from arkintelligence.model import ArkModel\n",
    "\n",
    "model = ArkModel(model=\"doubao-1.5-pro-32k-250115\")\n",
    "\n",
    "response = model.chat(prompt=\"Who are you?\")\n",
    "response"
   ]
  },
  {
   "cell_type": "markdown",
   "metadata": {},
   "source": [
    "Or, you can create a Translator agent to translate your text from English to Chinese:"
   ]
  },
  {
   "cell_type": "code",
   "execution_count": null,
   "metadata": {},
   "outputs": [],
   "source": [
    "from arkintelligence.agent import ArkAgent\n",
    "\n",
    "agent = ArkAgent(\n",
    "    name=\"Translator\",\n",
    "    model=\"doubao-1.5-pro-32k-250115\",\n",
    "    prompt=\"Translate the input text from English to Chinese.\",\n",
    ")\n",
    "\n",
    "res = agent.run(\"Inspire Creativity, Enrich Life!\")\n",
    "res"
   ]
  },
  {
   "cell_type": "markdown",
   "metadata": {},
   "source": [
    "# Basic usage\n",
    "\n",
    "## Overview\n",
    "\n",
    "### Text capabilities\n",
    "\n",
    "#### Single-turn completion\n",
    "\n",
    "Single-turn completion has no memory, so the previous user chat will not stored during chat. For example:"
   ]
  },
  {
   "cell_type": "code",
   "execution_count": null,
   "metadata": {},
   "outputs": [],
   "source": [
    "from arkintelligence.model import ArkModel\n",
    "\n",
    "model = ArkModel(model=\"doubao-1.5-pro-32k-250115\")\n",
    "\n",
    "response = model.chat(prompt=\"Your name is ArkIntelligence.\")\n",
    "response\n",
    "\n",
    "response = model.chat(prompt=\"What is your name?\")\n",
    "response"
   ]
  },
  {
   "cell_type": "markdown",
   "metadata": {},
   "source": [
    "#### Multi-turn chat\n",
    "\n",
    "### Vision capabilities\n",
    "\n",
    "Image understanding\n",
    "\n",
    "Video generation"
   ]
  },
  {
   "cell_type": "markdown",
   "metadata": {},
   "source": [
    "# Agent\n",
    "\n",
    "## Your first agent\n",
    "\n",
    "A simple agent can be built with several lines:"
   ]
  },
  {
   "cell_type": "code",
   "execution_count": null,
   "metadata": {},
   "outputs": [],
   "source": [
    "from arkintelligence.agent import ArkAgent\n",
    "\n",
    "agent = ArkAgent(\n",
    "    name=\"Completion assistant\",\n",
    "    model=\"deepseek-v3-250324\",\n",
    "    prompt=\"You are a helpful assistant.\",\n",
    ")"
   ]
  },
  {
   "cell_type": "markdown",
   "metadata": {},
   "source": [
    "Then you can chat with it:"
   ]
  },
  {
   "cell_type": "code",
   "execution_count": null,
   "metadata": {},
   "outputs": [],
   "source": [
    "res = agent.run(\"Hello, what is your name?\")\n",
    "print(f\"Response from agent: {res}\")"
   ]
  },
  {
   "cell_type": "markdown",
   "metadata": {},
   "source": [
    "A complex agent with several capabilities (such as knowledge base and function calling) just needs more 2 lines:"
   ]
  },
  {
   "cell_type": "code",
   "execution_count": null,
   "metadata": {},
   "outputs": [],
   "source": []
  },
  {
   "cell_type": "markdown",
   "metadata": {},
   "source": [
    "Introduce what the agent is.\n",
    "\n",
    "## Prompt engineering\n",
    "\n",
    "### Prompt usage\n",
    "\n",
    "### Prompt refine\n",
    "\n",
    "## Tools\n"
   ]
  },
  {
   "cell_type": "code",
   "execution_count": null,
   "metadata": {},
   "outputs": [],
   "source": []
  }
 ],
 "metadata": {
  "kernelspec": {
   "display_name": "arkintelligence",
   "language": "python",
   "name": "python3"
  },
  "language_info": {
   "codemirror_mode": {
    "name": "ipython",
    "version": 3
   },
   "file_extension": ".py",
   "mimetype": "text/x-python",
   "name": "python",
   "nbconvert_exporter": "python",
   "pygments_lexer": "ipython3",
   "version": "3.10.16"
  }
 },
 "nbformat": 4,
 "nbformat_minor": 2
}
