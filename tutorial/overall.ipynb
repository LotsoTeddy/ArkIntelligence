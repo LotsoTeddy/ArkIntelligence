{
  "cells": [
    {
      "cell_type": "markdown",
      "metadata": {
        "id": "MG33oR-V0u25"
      },
      "source": [
        "<hr/>\n",
        "<img src=\"https://portal.volccdn.com/obj/volcfe/logo/appbar_logo_dark.2.svg?sanitize=true\" align=center>\n",
        "<hr/>\n",
        "\n",
        "# Introduction\n",
        "\n",
        "Volengine Ark provides you with a development platform for large model services, offering feature-rich, secure and price-competitive model calling services, as well as end-to-end functions such as model data, fine-tuning, reasoning, evaluation, and so on, to comprehensively guarantee your AI application development landing.\n",
        "\n",
        "This is a freshman-friendly tutorial for Ark SDK, which helps you to build your own intelligent applications through agent, knowledge base, and so on.\n",
        "\n",
        "**Github:** Click [here](https://github.com/LotsoTeddy/ArkIntelligence/) to explore the Work-In-Progress Github repository 🤗"
      ]
    },
    {
      "cell_type": "markdown",
      "metadata": {
        "id": "rZ4wkrB4Hrr4"
      },
      "source": [
        "## Overview"
      ]
    },
    {
      "cell_type": "markdown",
      "metadata": {
        "id": "iveInZ44HruU"
      },
      "source": [
        "### Why Ark?\n",
        "\n",
        "Ark is a platform that supports multiple kinds of models running. Ark has the following advantages:\n",
        "\n",
        "- **Security and Mutual Trust**: Large model security and trust program strictly protects the model and information security of model providers and model users, click to view the white paper on security and mutual trust.\n",
        "- **Selected Models**: Supporting multi-industry models for various business scenarios, providing rich platform applications and tools to help you build your own innovative scenarios.\n",
        "- **Strong Arithmetic Power**: Based on the volcano's Wanka resource pool, we provide sufficient high-performance GPU resources to provide you with end-to-end modeling services including model fine-tuning, evaluation, and inference.\n",
        "- **Enterprise-level services**: provide professional service system support, professional product operation and sales delivery services to meet the needs of enterprise application construction and delivery."
      ]
    },
    {
      "cell_type": "markdown",
      "metadata": {
        "id": "DDoc86MlHr1M"
      },
      "source": [
        "### Productions\n",
        "\n",
        "Productions in ARK, including models, agents and something else. The specific productions are shown in the following image.\n",
        "\n",
        "![productions](https://ark-tutorial.tos-cn-beijing.volces.com/assets/images/productions.png)\n",
        "\n",
        "Rodemap and primary changelog of Ark.\n",
        "\n",
        "- 2025-03-31: foo\n",
        "- 2025-03-30: bar"
      ]
    },
    {
      "cell_type": "markdown",
      "metadata": {
        "id": "t3EFGnfhHr3s"
      },
      "source": [
        "## Setup"
      ]
    },
    {
      "cell_type": "markdown",
      "metadata": {
        "id": "TnUjrM_NHr51"
      },
      "source": [
        "### Installation\n",
        "\n",
        "Install ArkIntelligence SDK from Github repository. This may take more than 1 minute in Google Colab."
      ]
    },
    {
      "cell_type": "code",
      "execution_count": null,
      "metadata": {
        "id": "0T9598P80u26"
      },
      "outputs": [],
      "source": [
        "!pip install git+https://github.com/LotsoTeddy/ArkIntelligence.git"
      ]
    },
    {
      "cell_type": "markdown",
      "metadata": {
        "id": "ILGi2_YG0u26"
      },
      "source": [
        "### Authentication\n",
        "\n",
        "Go to [this doc](https://www.volcengine.com/docs/82379/1399008#b00dee71) to learn how to generate your API key, and set it in your code or environment variables:"
      ]
    },
    {
      "cell_type": "code",
      "execution_count": null,
      "metadata": {
        "id": "r8IXRcOG0u26"
      },
      "outputs": [],
      "source": [
        "import os\n",
        "\n",
        "os.environ[\"ARK_API_KEY\"] = \"\""
      ]
    },
    {
      "cell_type": "markdown",
      "metadata": {
        "id": "quEtH1_k0u26"
      },
      "source": [
        "## Quickstart\n",
        "\n",
        "You can chat with a model to learn the model's information:"
      ]
    },
    {
      "cell_type": "code",
      "execution_count": 14,
      "metadata": {
        "colab": {
          "base_uri": "https://localhost:8080/"
        },
        "id": "IdDzL7NZ0u26",
        "outputId": "5fbec3a0-c8d0-4daa-cf15-b0ca169d14bc"
      },
      "outputs": [
        {
          "name": "stdout",
          "output_type": "stream",
          "text": [
            "Response from model:\n",
            "\n",
            "I'm Doubao, an AI developed by ByteDance. I can have conversations with you, answer a wide variety of questions, offer advice, and more. Whether it's about history, science, technology, or just having a friendly chat, feel free to tell me what's on your mind! \n"
          ]
        }
      ],
      "source": [
        "from arkintelligence.model import ArkModel\n",
        "\n",
        "model = ArkModel(model=\"doubao-1.5-pro-32k-250115\")\n",
        "\n",
        "response = model.chat(prompt=\"Who are you?\")\n",
        "\n",
        "print('Response from model:\\n')\n",
        "print(response)"
      ]
    },
    {
      "cell_type": "markdown",
      "metadata": {
        "id": "zzNUWEfS0u27"
      },
      "source": [
        "Or, you can create an agent (named by Translator) for translating your text from *English* to *Chinese*."
      ]
    },
    {
      "cell_type": "code",
      "execution_count": null,
      "metadata": {
        "colab": {
          "base_uri": "https://localhost:8080/"
        },
        "id": "-na7hpMK0u27",
        "outputId": "7c01c26b-d955-4da9-f509-ad454672d4b6"
      },
      "outputs": [
        {
          "name": "stdout",
          "output_type": "stream",
          "text": [
            "Translated text from agent:\n",
            "\n",
            "激发创意，丰富生活！\n"
          ]
        }
      ],
      "source": [
        "from arkintelligence.agent import ArkAgent\n",
        "\n",
        "agent = ArkAgent(\n",
        "    name=\"Translator\",\n",
        "    model=\"doubao-1.5-pro-32k-250115\",\n",
        "    prompt=\"Translate the input text from English to Chinese.\",\n",
        ")\n",
        "\n",
        "response = agent.run(\"Inspire Creativity, Enrich Life!\")\n",
        "\n",
        "print('Translated text from agent:\\n')\n",
        "print(response)"
      ]
    },
    {
      "cell_type": "markdown",
      "metadata": {
        "id": "o7XyOQM30u27"
      },
      "source": [
        "# Basic usage"
      ]
    },
    {
      "cell_type": "markdown",
      "metadata": {
        "id": "86v3HcBsIdLf"
      },
      "source": [
        "## Overview\n",
        "\n",
        "The entire list of model ID can be found [here](https://www.volcengine.com/docs/82379/1330310). The capabilities of each model is listed as follows:\n",
        "\n",
        "| Model ID      | Image understanding | Video generation | Function calling |\n",
        "| - | - | - | - |\n",
        "| doubao-1.5-vision-pro-32k-250115 | ✅ | | |\n",
        "| doubao-seaweed-241128 | | ✅ | |\n",
        "| ... | | | |"
      ]
    },
    {
      "cell_type": "markdown",
      "metadata": {
        "id": "tzm3g2RQGQIh"
      },
      "source": [
        "## Text capabilities\n"
      ]
    },
    {
      "cell_type": "markdown",
      "metadata": {
        "id": "zU_eb9k5GW_-"
      },
      "source": [
        "### Chat\n",
        "\n",
        "A simplest chat is in the form of single-turn, which has no memory. The history messages whether from user or model will not be saved. For example:"
      ]
    },
    {
      "cell_type": "code",
      "execution_count": null,
      "metadata": {
        "colab": {
          "base_uri": "https://localhost:8080/"
        },
        "id": "CgT1DSPH0u27",
        "outputId": "f183cb94-8620-4a1c-890d-b4227fbc75ff"
      },
      "outputs": [
        {
          "name": "stdout",
          "output_type": "stream",
          "text": [
            "Response from the first chat:\n",
            "\n",
            "Got it! From now on, my name is ArkIntelligence. Nice to meet you!\n",
            "\n",
            "\n",
            "Response from the second chat:\n",
            "\n",
            "I don't remember the last prompt as I don't have a memory of previous interactions in that way. My name is Doubao. \n"
          ]
        }
      ],
      "source": [
        "from arkintelligence.model import ArkModel\n",
        "\n",
        "model = ArkModel(model=\"doubao-1.5-pro-32k-250115\")\n",
        "\n",
        "res1 = model.chat(prompt=\"Your name is ArkIntelligence.\")\n",
        "res2 = model.chat(prompt=\"Do you remember the last prompt? What is your name?\")\n",
        "\n",
        "print('Response from the first chat:\\n')\n",
        "print(res1)\n",
        "\n",
        "print('\\n')\n",
        "\n",
        "print('Response from the second chat:\\n')\n",
        "print(res2)"
      ]
    },
    {
      "cell_type": "markdown",
      "metadata": {
        "id": "K_S5v1-36CT3"
      },
      "source": [
        "In the above code, the first chat sets a name for the model, but this message is not saved, hence the second chat will not return the preset name."
      ]
    },
    {
      "cell_type": "code",
      "execution_count": null,
      "metadata": {
        "id": "rLfun-a8S5tP"
      },
      "outputs": [],
      "source": []
    },
    {
      "cell_type": "markdown",
      "metadata": {
        "id": "5gpFnnfV0u27"
      },
      "source": [
        "### Chat with memory\n",
        "\n",
        "Sometimes you need a multiple turn chatting, you can enable history message saving by setting `enable_context=True` during model initialization. For example:"
      ]
    },
    {
      "cell_type": "code",
      "execution_count": 8,
      "metadata": {
        "colab": {
          "base_uri": "https://localhost:8080/"
        },
        "id": "Dy8IJ2vI0u27",
        "outputId": "32b3c508-6bc6-495f-e188-f218dd9f8d4d"
      },
      "outputs": [
        {
          "name": "stdout",
          "output_type": "stream",
          "text": [
            "Response from the first chat:\n",
            "\n",
            "Thank you for naming me ArkIntelligence. From now on, I'll serve you under this name! If you have any questions, just tell me. \n",
            "\n",
            "\n",
            "Response from the second chat:\n",
            "\n",
            "My name is ArkIntelligence. I remember you assigned this name to me in the previous prompt.\n"
          ]
        }
      ],
      "source": [
        "from arkintelligence.model import ArkModel\n",
        "\n",
        "model = ArkModel(\n",
        "    model=\"doubao-1.5-pro-32k-250115\",\n",
        "    enbale_context=True # Make the model remember the context\n",
        "    )\n",
        "\n",
        "res1 = model.chat(prompt=\"Your name is ArkIntelligence.\")\n",
        "res2 = model.chat(prompt=\"Do you remember the last prompt? What is your name?\")\n",
        "\n",
        "print('Response from the first chat:\\n')\n",
        "print(res1)\n",
        "\n",
        "print('\\n')\n",
        "\n",
        "print('Response from the second chat:\\n')\n",
        "print(res2)"
      ]
    },
    {
      "cell_type": "markdown",
      "metadata": {
        "id": "F5ntuS7B0u27"
      },
      "source": [
        "The model can remember the previous user inputs. The context will be managed automatically in ArkIntelligence!\n",
        "\n",
        "### Chat with attachment [WIP]\n",
        "\n",
        "We support upload your single file with format of `.txt`, for example:"
      ]
    },
    {
      "cell_type": "code",
      "execution_count": null,
      "metadata": {
        "id": "fwvyrYsV0u27"
      },
      "outputs": [],
      "source": [
        "# ======== [WIP] ========\n",
        "# from arkintelligence.model import ArkModel\n",
        "\n",
        "# model = ArkModel(model=\"doubao-1.5-pro-32k-250115\")\n",
        "\n",
        "# response = model.chat(\n",
        "#     prompt=\"Your name is ArkIntelligence.\",\n",
        "#     attachment=\"FILE_PATH\",  # TODO(LotsoTeddy): Parsing attachment\n",
        "# )\n",
        "# response"
      ]
    },
    {
      "cell_type": "markdown",
      "metadata": {
        "id": "qGIgSZBa0u27"
      },
      "source": [
        "## Vision capabilities\n",
        "\n",
        "Ark provides capabilities about multi-media, such as vision and sounds. Here we introduce the vision-related demos. The vision-related task is devided into image understanding and video generation.\n",
        "\n",
        "- **Image understanding**: this task can read information from one or several images and return the content to the user\n",
        "- **Video generation**: this task can generate video from text and images\n"
      ]
    },
    {
      "cell_type": "markdown",
      "metadata": {
        "id": "ULwq7QJhGeae"
      },
      "source": [
        "### Image understanding\n",
        "\n",
        "We use the model `doubao-1.5-vision-pro-32k-250115` to understand the following image:\n",
        "\n",
        "<img src='https://ark-tutorial.tos-cn-beijing.volces.com/assets/images/cat.png' style='width:100px'>"
      ]
    },
    {
      "cell_type": "code",
      "execution_count": 9,
      "metadata": {
        "colab": {
          "base_uri": "https://localhost:8080/"
        },
        "id": "Vk9lq6bB0u27",
        "outputId": "50873e74-4e2b-4feb-a041-5ef747dfb2f6"
      },
      "outputs": [
        {
          "name": "stdout",
          "output_type": "stream",
          "text": [
            "Response from model:\n",
            "\n",
            "This is a close - up photograph of a charming cat. The cat has a soft, light gray coat with subtle darker gray stripes running through it, giving its fur a delicate and textured appearance. Its face is round and endearing, with large, round eyes that are a dark, captivating shade, making the cat look incredibly alert and curious. The cat's nose is small and pink, adding a touch of cuteness to its overall look.\n",
            "\n",
            "Long, white whiskers extend from either side of its muzzle, emphasizing its feline features. The cat's ears are upright and have a light pink inner lining, covered with fine fur. It is lying down on what appears to be a light - colored surface, possibly a carpet or a mat.\n",
            "\n",
            "In the background, there are some indistinct objects. There is a glimpse of what seems to be a piece of furniture, perhaps a chair with a dark backrest, and some other household items that are out of focus, ensuring that the cat remains the central subject of the image. The overall atmosphere of the picture is cozy and intimate, capturing a moment of the cat's relaxed state at home. \n"
          ]
        }
      ],
      "source": [
        "from arkintelligence.model import ArkModel\n",
        "\n",
        "IMAGE_PATH = \"https://ark-tutorial.tos-cn-beijing.volces.com/assets/images/cat.png\"\n",
        "model = ArkModel(\n",
        "    model=\"doubao-1.5-vision-pro-32k-250115\",  # Use vision model here\n",
        ")\n",
        "\n",
        "response = model.process_image(\n",
        "    prompt=\"Please describe this image with details.\",\n",
        "    attachment=IMAGE_PATH,\n",
        ")\n",
        "\n",
        "print('Response from model:\\n')\n",
        "print(response)"
      ]
    },
    {
      "cell_type": "markdown",
      "metadata": {
        "id": "kycGTtYd0u27"
      },
      "source": [
        "### Video generation\n",
        "\n",
        "We use `doubao-seaweed-241128` model to generate a video according to a static image and prompt:"
      ]
    },
    {
      "cell_type": "code",
      "execution_count": 10,
      "metadata": {
        "colab": {
          "base_uri": "https://localhost:8080/"
        },
        "id": "eC7f0ipR0u27",
        "outputId": "d5a0f822-9d66-4d9b-a6f6-eb0e7859564e"
      },
      "outputs": [
        {
          "name": "stdout",
          "output_type": "stream",
          "text": [
            "Waiting for video generation, this may take a while...\n",
            "\n",
            "Generated video url: https://ark-content-generation-cn-beijing.tos-cn-beijing.volces.com/doubao-seaweed/doubao-seaweed-2100390175-02174357478596100000000000000000000ffffac15606b93ad78.mp4?X-Tos-Algorithm=TOS4-HMAC-SHA256&X-Tos-Credential=AKLTYjg3ZjNlOGM0YzQyNGE1MmI2MDFiOTM3Y2IwMTY3OTE%2F20250402%2Fcn-beijing%2Ftos%2Frequest&X-Tos-Date=20250402T062038Z&X-Tos-Expires=86400&X-Tos-Signature=d3e06675512df758b34e4e64c10a1ebdcbd32bddaf7e6eb67c29177b46cb7b27&X-Tos-SignedHeaders=host\n"
          ]
        }
      ],
      "source": [
        "REF_IMAGE_PATH = \"https://ark-tutorial.tos-cn-beijing.volces.com/assets/images/cat.png\"\n",
        "model = ArkModel(\n",
        "    model=\"doubao-seaweed-241128\",  # Use video generation model here\n",
        ")\n",
        "\n",
        "response = model.generate_video(\n",
        "    prompt=\"Please generate a video with a cat running.\",\n",
        "    attachment=REF_IMAGE_PATH,\n",
        ")\n",
        "\n",
        "# This may take a while...\n",
        "print(f\"Generated video url: {response}\")"
      ]
    },
    {
      "cell_type": "markdown",
      "metadata": {
        "id": "YYcHPock0u27"
      },
      "source": [
        "For more models that support video generation, you can visit [here]().\n",
        "\n",
        "If you want to make the video more vivid, maybe you need: prompt refine."
      ]
    },
    {
      "cell_type": "markdown",
      "metadata": {
        "id": "gqWSml5i0u28"
      },
      "source": [
        "# Agent"
      ]
    },
    {
      "cell_type": "markdown",
      "metadata": {
        "id": "Ta50kBeYKBFM"
      },
      "source": [
        "## A minimal agent\n",
        "\n",
        "A simple agent can be built with several lines. The `name` field is not necessary, but provide it will make agent more intelligent!"
      ]
    },
    {
      "cell_type": "code",
      "execution_count": 11,
      "metadata": {
        "id": "ejpD_lRz0u28"
      },
      "outputs": [],
      "source": [
        "from arkintelligence.agent import ArkAgent\n",
        "\n",
        "agent = ArkAgent(\n",
        "    name=\"Meeting assistant\",\n",
        "    model=\"deepseek-v3-250324\",\n",
        ")"
      ]
    },
    {
      "cell_type": "markdown",
      "metadata": {
        "id": "nqEpIpze0u28"
      },
      "source": [
        "Then, you can run it with an input prompt:"
      ]
    },
    {
      "cell_type": "code",
      "execution_count": 12,
      "metadata": {
        "colab": {
          "base_uri": "https://localhost:8080/",
          "height": 125
        },
        "id": "Cqz2hfXy0u28",
        "outputId": "ead5a37e-e022-46d5-b97f-1e9fb75b8d32"
      },
      "outputs": [
        {
          "data": {
            "application/vnd.google.colaboratory.intrinsic+json": {
              "type": "string"
            },
            "text/plain": [
              "'Hi there! 👋 I\\'m your **Meeting Assistant**, here to make your meetings smoother and more productive. Here\\'s what I can do for you:\\n\\n### **Who I Am**  \\nI’m an AI-powered assistant designed to help with meeting-related tasks—whether it’s scheduling, note-taking, summarizing discussions, or follow-ups.\\n\\n### **What I Can Do**  \\n✅ **Schedule & Coordinate Meetings** – Find the best time for everyone, send invites, and handle reminders.  \\n✅ **Take Notes** – Capture key points, decisions, and action items in real time (if integrated with your meeting tools).  \\n✅ **Summarize Discussions** – Provide concise recaps with highlights, deadlines, and next steps.  \\n✅ **Generate Follow-ups** – Draft emails or task lists based on meeting outcomes.  \\n✅ **Answer Questions** – Need info from past meetings? I can help retrieve details.  \\n\\nLet me know how I can assist—just give me the details! 🚀  \\n\\n*(Example: \"Set up a 30-minute team meeting next week\" or \"Summarize this transcript.\")*'"
            ]
          },
          "execution_count": 12,
          "metadata": {},
          "output_type": "execute_result"
        }
      ],
      "source": [
        "response = agent.run(\"Who are you and what can you do?\")\n",
        "response"
      ]
    },
    {
      "cell_type": "markdown",
      "metadata": {
        "id": "R8OCLym00u28"
      },
      "source": [
        "Introduce what the agent is."
      ]
    },
    {
      "cell_type": "markdown",
      "metadata": {
        "id": "7I2sFFUVKjK7"
      },
      "source": [
        "## Prompt engineering\n",
        "\n",
        "Prompt engineering is important that can make your prompt more rich and useful for models."
      ]
    },
    {
      "cell_type": "markdown",
      "metadata": {
        "id": "cTTDeIAxKjNO"
      },
      "source": [
        "### Prompt usage\n",
        "\n",
        "Prompt can be used for interacting with models. The models understand your prompt and give responses.\n",
        "\n",
        "For example, with a prompt, a complex English statement can be optimized to be more concise:"
      ]
    },
    {
      "cell_type": "code",
      "execution_count": 13,
      "metadata": {
        "colab": {
          "base_uri": "https://localhost:8080/"
        },
        "id": "R1qrs9s10u28",
        "outputId": "27588e71-7692-43cc-e20d-6869626c3ce0"
      },
      "outputs": [
        {
          "name": "stdout",
          "output_type": "stream",
          "text": [
            "\n",
            "Q: I will give you a sentence, please make the sentence more concise and elegant.\n",
            "\n",
            "A: Sure! Please provide the sentence, and I'll do my best to make it more concise and elegant.\n",
            "\n",
            "\n",
            "\n",
            "Q: In a Chinese house, the kitchen is only a place for cooking things; but in many Western houses, the kitchen is not only a place where people cook meals and eat them but also a place where the family members or friends usually meet each other.\n",
            "\n",
            "A: In Chinese houses, the kitchen serves solely for cooking. In contrast, in many Western homes, it's not just a cooking and dining area but also a gathering place for family and friends. \n",
            "\n",
            "\n"
          ]
        }
      ],
      "source": [
        "from arkintelligence.model import ArkModel\n",
        "\n",
        "model = ArkModel(\n",
        "    model=\"doubao-1.5-pro-32k-250115\",\n",
        "    enbale_context=True,\n",
        ")\n",
        "\n",
        "prompt1 = \"I will give you a sentence, please make the sentence more concise and elegant.\"\n",
        "prompt2 = \"In a Chinese house, the kitchen is only a place for cooking things; but in many Western houses, the kitchen is not only a place where people cook meals and eat them but also a place where the family members or friends usually meet each other.\"\n",
        "\n",
        "res1 = model.chat(prompt1)\n",
        "res2 = model.chat(prompt2)\n",
        "\n",
        "print(f'''\n",
        "Q: {prompt1}\\n\n",
        "A: {res1}\\n\n",
        "\\n\n",
        "Q: {prompt2}\\n\n",
        "A: {res2}\\n\n",
        "''')"
      ]
    },
    {
      "cell_type": "markdown",
      "metadata": {
        "id": "u2nZWUb70u28"
      },
      "source": [
        "### Prompt refine\n",
        "\n",
        "Refine prompts is important, the comparision is as follows. We use a simple and a refined prompt to generate images, then compare the image quality.\n",
        "\n",
        "In fact, you can build an agent to refine prompt:"
      ]
    },
    {
      "cell_type": "code",
      "execution_count": 14,
      "metadata": {
        "colab": {
          "base_uri": "https://localhost:8080/"
        },
        "id": "o_21pcLI0u28",
        "outputId": "aa34f896-8fea-4400-c891-f9376e9bed6b"
      },
      "outputs": [
        {
          "name": "stdout",
          "output_type": "stream",
          "text": [
            "Original prompt: Draw a cute golden british shorthair cat.\n",
            "\n",
            "\n",
            "Refined prompt: Create an image of an adorably cute Golden British Shorthair cat. Focus on capturing the breed's characteristic round face, plush coat with a golden hue, and large, expressive eyes. Ensure the cat has a friendly, endearing pose, perhaps sitting upright, with its soft fur looking fluffy and inviting. Use warm, soft - toned lighting to enhance the cuteness and give the overall image a cozy, appealing aesthetic.\n"
          ]
        }
      ],
      "source": [
        "from arkintelligence.agent import ArkAgent\n",
        "\n",
        "prompt = \"Draw a cute golden british shorthair cat.\"\n",
        "\n",
        "refine_agent = ArkAgent(\n",
        "    name=\"Prompt refine assistant\",\n",
        "    model=\"doubao-1-5-pro-256k-250115\",\n",
        "    prompt=\"Refine the prompt to make it more suitable for image generation.\",\n",
        ")\n",
        "prompt_refined = refine_agent.run(prompt)\n",
        "\n",
        "print(f\"Original prompt: {prompt}\")\n",
        "print('\\n')\n",
        "print(f\"Refined prompt: {prompt_refined}\")"
      ]
    },
    {
      "cell_type": "markdown",
      "metadata": {
        "id": "oTogTxvV0u28"
      },
      "source": [
        "Then we use the two prompts to generate videos and see the differents:"
      ]
    },
    {
      "cell_type": "code",
      "execution_count": 15,
      "metadata": {
        "colab": {
          "base_uri": "https://localhost:8080/"
        },
        "id": "KORB226K0u28",
        "outputId": "66df5b99-f592-46ce-f2c8-355fb48d9bf2"
      },
      "outputs": [
        {
          "name": "stdout",
          "output_type": "stream",
          "text": [
            "Original video url is: https://ark-content-generation-cn-beijing.tos-cn-beijing.volces.com/doubao-seaweed/doubao-seaweed-2100390175-02174357522993500000000000000000000ffffac15606b87092c.mp4?X-Tos-Algorithm=TOS4-HMAC-SHA256&X-Tos-Credential=AKLTYjg3ZjNlOGM0YzQyNGE1MmI2MDFiOTM3Y2IwMTY3OTE%2F20250402%2Fcn-beijing%2Ftos%2Frequest&X-Tos-Date=20250402T062757Z&X-Tos-Expires=86400&X-Tos-Signature=ed38c5457d2a92b48c4ba79df28c4607efa94aeec1f82fb876a666723095a4e2&X-Tos-SignedHeaders=host\n",
            "Refined video url is: https://ark-content-generation-cn-beijing.tos-cn-beijing.volces.com/doubao-seaweed/doubao-seaweed-2100390175-02174357528376500000000000000000000ffffac15606b5a5252.mp4?X-Tos-Algorithm=TOS4-HMAC-SHA256&X-Tos-Credential=AKLTYjg3ZjNlOGM0YzQyNGE1MmI2MDFiOTM3Y2IwMTY3OTE%2F20250402%2Fcn-beijing%2Ftos%2Frequest&X-Tos-Date=20250402T062851Z&X-Tos-Expires=86400&X-Tos-Signature=92940cc3b3ae17a1b52864371249f699f716d95f3f28ede79255aa9f1853235c&X-Tos-SignedHeaders=host\n"
          ]
        }
      ],
      "source": [
        "from arkintelligence.model import ArkModel\n",
        "\n",
        "model = ArkModel(\n",
        "    model=\"doubao-seaweed-241128\",  # Use video generation model here\n",
        ")\n",
        "\n",
        "video = model.generate_video(\n",
        "    prompt=prompt,\n",
        ")\n",
        "video_with_refine = model.generate_video(\n",
        "    prompt=prompt_refined,\n",
        ")\n",
        "\n",
        "print(f'Original video url is: {video}')\n",
        "print(f'Refined video url is: {video_with_refine}')"
      ]
    },
    {
      "cell_type": "markdown",
      "metadata": {
        "id": "dB6KcEvV0u28"
      },
      "source": [
        "### Equip to agent [WIP]\n",
        "\n",
        "You can enable prompt refine in your agent, the agent will automatically refine your **first** prompt with a default refine prompt (you can modify this by pass `refine_prompt`). The usage is as follows:"
      ]
    },
    {
      "cell_type": "code",
      "execution_count": null,
      "metadata": {
        "id": "7IZDBjdl0u28"
      },
      "outputs": [],
      "source": [
        "# TODO, WIP\n",
        "\n",
        "# from arkintelligence.agent import ArkAgent\n",
        "\n",
        "# prompt = \"Draw a cute golden british shorthair cat.\"\n",
        "\n",
        "# refine_agent = ArkAgent(\n",
        "#     name=\"Prompt refine assistant\",\n",
        "#     model=\"doubao-1-5-pro-256k-250115\",\n",
        "#     prompt=\"Refine the prompt to make it more suitable for image generation.\",\n",
        "#     refine_requirement=\"Refine the prompt to make it more suitable for image generation.\",\n",
        "# )\n",
        "# prompt_refined = refine_agent.run(prompt)\n",
        "\n",
        "# print(f\"Original prompt:\\n{prompt}\")\n",
        "# print(f\"Refined prompt:\\n{prompt_refined}\")"
      ]
    },
    {
      "cell_type": "markdown",
      "metadata": {
        "id": "9P1okD4n0u28"
      },
      "source": [
        "## Function calling\n",
        "\n",
        "The Ark agent can call your local function to finish your task."
      ]
    },
    {
      "cell_type": "markdown",
      "metadata": {
        "id": "dD0NiTO8L303"
      },
      "source": [
        "### Create a tool\n",
        "\n",
        "Before init an agent, you should create a tool (which is just a Python function) to define tool logic. For example, we provide a `visit_url` here to read the website information:"
      ]
    },
    {
      "cell_type": "code",
      "execution_count": 24,
      "metadata": {
        "id": "UBRiXznW0u28"
      },
      "outputs": [],
      "source": [
        "from arkintelligence.tool import ArkTool\n",
        "\n",
        "@ArkTool\n",
        "def visit_url(url: str):\n",
        "    \"\"\"Visit a URL and return the content.\n",
        "\n",
        "    This function can receive an url, and request to the url, then get the content of this url.\n",
        "\n",
        "    Args:\n",
        "        url (str): The URL to visit, generally begins with `http`.\n",
        "\n",
        "    Returns:\n",
        "        str: The content of the URL.\n",
        "    \"\"\"\n",
        "\n",
        "    import requests\n",
        "\n",
        "    response = requests.get(url)\n",
        "    return response.text"
      ]
    },
    {
      "cell_type": "markdown",
      "metadata": {
        "id": "a7m7weHn0u28"
      },
      "source": [
        "Any function can be decorated by `ArkTool` to be a tool, which can be invoked by Ark agent.\n",
        "\n",
        "\n",
        "**NOTE:** The docstring of function is important, as its name, description and arguments will be sent to the model. The detailed docstring usage can be found [here]()."
      ]
    },
    {
      "cell_type": "markdown",
      "metadata": {
        "id": "2hr7ZLxqMLqd"
      },
      "source": [
        "### Equip to agent\n",
        "\n",
        "The created tool can be equipped to an agent with just only one option:"
      ]
    },
    {
      "cell_type": "code",
      "execution_count": 27,
      "metadata": {
        "colab": {
          "base_uri": "https://localhost:8080/"
        },
        "id": "UxAHNWEl0u28",
        "outputId": "788e413e-c6e2-4854-8726-6916f4bdedc4"
      },
      "outputs": [
        {
          "name": "stdout",
          "output_type": "stream",
          "text": [
            "I don't have direct access to view the specific content of the CNN article at the provided link. However, you can follow these steps to read it:\n",
            "\n",
            "### Method 1: Open the Link in a Web Browser\n",
            "1. Simply copy and paste the URL (https://edition.cnn.com/2025/04/01/politics/wisconsin - supreme - court - election/index.html) into the address bar of your preferred web browser (such as Chrome, Firefox, Safari, etc.).\n",
            "2. Press the Enter key on your keyboard. The browser will then load the article, and you can read its full content.\n",
            "\n",
            "### Method 2: Use an Archive Service (if the page is not accessible)\n",
            "If for some reason the page is not available, you can try using an internet archive service like the Wayback Machine. \n",
            "1. Go to the Wayback Machine website at https://archive.org/web/.\n",
            "2. Paste the URL of the CNN article into the search bar on the Wayback Machine page.\n",
            "3. It will show you snapshots of the page taken at different times. Select a suitable snapshot to view the archived content of the article. \n"
          ]
        }
      ],
      "source": [
        "from arkintelligence.agent import ArkAgent\n",
        "\n",
        "agent = ArkAgent(\n",
        "    name=\"Web search assistant\",\n",
        "    model=\"doubao-1.5-pro-32k-250115\",\n",
        "    tools=['visit_url'],\n",
        ")\n",
        "\n",
        "response = agent.run(\"What is the content of https://edition.cnn.com/2025/04/01/politics/wisconsin-supreme-court-election/index.html.\")\n",
        "\n",
        "print(response)"
      ]
    },
    {
      "cell_type": "markdown",
      "metadata": {
        "id": "JoQF4T_tNt9z"
      },
      "source": [
        "In the output, the model"
      ]
    },
    {
      "cell_type": "markdown",
      "metadata": {
        "id": "2-ZC3WfA0u28"
      },
      "source": [
        "## RAG\n",
        "\n",
        "RAG enhances model response. In Ark, we provide concise method to enbale RAG.\n",
        "\n",
        "### Knowledge base\n",
        "\n",
        "You can create a knowledge base with your local files like this:"
      ]
    },
    {
      "cell_type": "code",
      "execution_count": null,
      "metadata": {
        "id": "ATH0cDxq0u28"
      },
      "outputs": [],
      "source": [
        "from arkintelligence.knowledgebase import ArkKnowledgeBase\n",
        "\n",
        "kb = ArkKnowledgeBase(\n",
        "    name=\"ArkIntelligence\",\n",
        "    description=\"ArkIntelligence is a company that provides AI solutions.\",\n",
        "    data=data\n",
        ")"
      ]
    },
    {
      "cell_type": "markdown",
      "metadata": {
        "id": "5rXAIUjh0u28"
      },
      "source": [
        "During creation, your data will be uploaded to Ark platform and processed by embedding models such as `doubao-embed` (embed model API can be found [here]()). The processed data is stored in your local memory rather than cloud space.\n",
        "\n",
        "### Equip to agent\n",
        "\n",
        "Equip the knowledge base to your agent like this:"
      ]
    },
    {
      "cell_type": "code",
      "execution_count": null,
      "metadata": {
        "id": "Afk8aV2O0u28"
      },
      "outputs": [],
      "source": [
        "agent = ArkAgent(\n",
        "    name=\"Knowledge base agent\",\n",
        "    model=\"deepseek-v3-250324\",\n",
        "    prompt=\"You are a helpful assistant.\",\n",
        "    knowldgebase=kb,\n",
        ")\n",
        "response = agent.run(\"Summary the pros and cons of SmartVM\")\n",
        "\n",
        "print(response)"
      ]
    },
    {
      "cell_type": "markdown",
      "metadata": {
        "id": "WjGbBt6h0u29"
      },
      "source": [
        "# Awesome samples\n",
        "\n",
        "## Auto-summary\n"
      ]
    }
  ],
  "metadata": {
    "colab": {
      "provenance": [],
      "toc_visible": true
    },
    "kernelspec": {
      "display_name": "arkintelligence",
      "language": "python",
      "name": "python3"
    },
    "language_info": {
      "codemirror_mode": {
        "name": "ipython",
        "version": 3
      },
      "file_extension": ".py",
      "mimetype": "text/x-python",
      "name": "python",
      "nbconvert_exporter": "python",
      "pygments_lexer": "ipython3",
      "version": "3.10.16"
    }
  },
  "nbformat": 4,
  "nbformat_minor": 0
}
