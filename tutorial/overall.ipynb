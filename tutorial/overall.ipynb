{
  "cells": [
    {
      "cell_type": "markdown",
      "metadata": {
        "id": "view-in-github",
        "colab_type": "text"
      },
      "source": [
        "<a href=\"https://colab.research.google.com/github/LotsoTeddy/ArkIntelligence/blob/tutorial/tutorial/overall.ipynb\" target=\"_parent\"><img src=\"https://colab.research.google.com/assets/colab-badge.svg\" alt=\"Open In Colab\"/></a>"
      ]
    },
    {
      "cell_type": "markdown",
      "metadata": {
        "id": "MG33oR-V0u25"
      },
      "source": [
        "<hr/>\n",
        "<img src=\"https://portal.volccdn.com/obj/volcfe/logo/appbar_logo_dark.2.svg?sanitize=true\" align=center>\n",
        "<hr/>\n",
        "\n",
        "# 🤗 Introduction\n",
        "\n",
        "Volengine Ark provides you with a development platform for large model services, offering feature-rich, secure and price-competitive model calling services, as well as end-to-end functions such as model data, fine-tuning, reasoning, evaluation, and so on, to comprehensively guarantee your AI application development landing.\n",
        "\n",
        "This is a freshman-friendly tutorial for Ark SDK, which helps you to build your own intelligent applications through agent, knowledge base, and so on.\n",
        "\n",
        "**Github**\n",
        "\n",
        "Click [here](https://github.com/LotsoTeddy/ArkIntelligence/) to explore the Work-In-Progress Github repository.\n",
        "\n",
        "**NOTE**\n",
        "- 🟡 This tutorial updates in `tutorial` branch.\n",
        "- ❗ The ArkIntelligence is experimental and exists protential bugs."
      ]
    },
    {
      "cell_type": "markdown",
      "metadata": {
        "id": "rZ4wkrB4Hrr4"
      },
      "source": [
        "## Overview"
      ]
    },
    {
      "cell_type": "markdown",
      "metadata": {
        "id": "iveInZ44HruU"
      },
      "source": [
        "### Why Ark?\n",
        "\n",
        "Ark is a platform that supports multiple kinds of models running. Ark has the following advantages:\n",
        "\n",
        "- **Security and Mutual Trust**: Large model security and trust program strictly protects the model and information security of model providers and model users, click to view the white paper on security and mutual trust.\n",
        "- **Selected Models**: Supporting multi-industry models for various business scenarios, providing rich platform applications and tools to help you build your own innovative scenarios.\n",
        "- **Strong Arithmetic Power**: Based on the volcano's Wanka resource pool, we provide sufficient high-performance GPU resources to provide you with end-to-end modeling services including model fine-tuning, evaluation, and inference.\n",
        "- **Enterprise-level services**: provide professional service system support, professional product operation and sales delivery services to meet the needs of enterprise application construction and delivery."
      ]
    },
    {
      "cell_type": "markdown",
      "metadata": {
        "id": "DDoc86MlHr1M"
      },
      "source": [
        "### Productions\n",
        "\n",
        "Productions in ARK, including models, agents and something else. The specific productions are shown in the following image.\n",
        "\n",
        "![productions](https://ark-tutorial.tos-cn-beijing.volces.com/assets/images/productions.png)\n",
        "\n",
        "Rodemap and primary changelog of Ark.\n",
        "\n",
        "| Date | Change log |\n",
        "| :--- | :--- |\n",
        "| 2025-04-02 | Tutorial released |\n",
        "| 2025-04-01 | ArkIntelligence released |\n",
        "| 2025-03-29 | Prepare |\n"
      ]
    },
    {
      "cell_type": "markdown",
      "metadata": {
        "id": "t3EFGnfhHr3s"
      },
      "source": [
        "## Setup"
      ]
    },
    {
      "cell_type": "markdown",
      "metadata": {
        "id": "TnUjrM_NHr51"
      },
      "source": [
        "### Installation\n",
        "\n",
        "Install ArkIntelligence SDK from Github repository. This may take more than 1 minute in Google Colab."
      ]
    },
    {
      "cell_type": "code",
      "execution_count": null,
      "metadata": {
        "id": "0T9598P80u26"
      },
      "outputs": [],
      "source": [
        "!pip install git+https://github.com/LotsoTeddy/ArkIntelligence.git"
      ]
    },
    {
      "cell_type": "markdown",
      "metadata": {
        "id": "ILGi2_YG0u26"
      },
      "source": [
        "### Authentication"
      ]
    },
    {
      "cell_type": "markdown",
      "source": [
        "#### Typical\n",
        "Go to [this doc](https://www.volcengine.com/docs/82379/1399008#b00dee71) to learn how to generate your API key, and set it in your code or environment variables:"
      ],
      "metadata": {
        "id": "YisLC1NUsWQS"
      }
    },
    {
      "cell_type": "code",
      "execution_count": null,
      "metadata": {
        "id": "r8IXRcOG0u26"
      },
      "outputs": [],
      "source": [
        "import os\n",
        "\n",
        "os.environ[\"ARK_API_KEY\"] = \"SET_YOUR_ARK_API_KEY\""
      ]
    },
    {
      "cell_type": "markdown",
      "source": [
        "#### Google Colab\n",
        "\n",
        "If you run in Google Colab, you can set your api key by the following method in a more private method:"
      ],
      "metadata": {
        "id": "5LzTBjseaWw6"
      }
    },
    {
      "cell_type": "code",
      "source": [
        "import os\n",
        "\n",
        "from google.colab import userdata\n",
        "\n",
        "os.environ[\"ARK_API_KEY\"] = userdata.get('ARK_API_KEY')"
      ],
      "metadata": {
        "id": "lIESHAidaewY"
      },
      "execution_count": null,
      "outputs": []
    },
    {
      "cell_type": "markdown",
      "metadata": {
        "id": "quEtH1_k0u26"
      },
      "source": [
        "## Quickstart\n",
        "\n",
        "You can chat with a model to learn the model's information:"
      ]
    },
    {
      "cell_type": "code",
      "execution_count": null,
      "metadata": {
        "colab": {
          "base_uri": "https://localhost:8080/"
        },
        "id": "IdDzL7NZ0u26",
        "outputId": "e51d296d-2872-4b0e-a751-508050fc8161"
      },
      "outputs": [
        {
          "output_type": "stream",
          "name": "stdout",
          "text": [
            "Response from model:\n",
            "\n",
            "I'm Doubao, an AI developed by ByteDance. I can answer a wide range of questions, offer information on various topics, have conversations with you, and help you solve different problems. Just tell me what you need! \n"
          ]
        }
      ],
      "source": [
        "from arkintelligence.model import ArkModel\n",
        "\n",
        "model = ArkModel(model=\"doubao-1.5-pro-32k-250115\")\n",
        "\n",
        "response = model.chat(prompt=\"Who are you?\")\n",
        "\n",
        "print('Response from model:\\n')\n",
        "print(response)"
      ]
    },
    {
      "cell_type": "markdown",
      "metadata": {
        "id": "zzNUWEfS0u27"
      },
      "source": [
        "Furthermore, you can create an agent (named by `Translator`) for translating your text from *English* to *other languages*."
      ]
    },
    {
      "cell_type": "code",
      "execution_count": null,
      "metadata": {
        "colab": {
          "base_uri": "https://localhost:8080/"
        },
        "id": "-na7hpMK0u27",
        "outputId": "469fd69b-f804-49b0-8c9a-854558cfeebe"
      },
      "outputs": [
        {
          "output_type": "stream",
          "name": "stdout",
          "text": [
            "Translated text from agent:\n",
            "\n",
            "### Chinese\n",
            "激发创造力，丰富生活！\n",
            "\n",
            "### French\n",
            "Inspirez la créativité, enrichissez la vie !\n",
            "\n",
            "### Japanese\n",
            "創造力を引き出し、生活を豊かに！ \n"
          ]
        }
      ],
      "source": [
        "from arkintelligence.agent import ArkAgent\n",
        "\n",
        "agent = ArkAgent(\n",
        "    name=\"Translator\",\n",
        "    model=\"doubao-1.5-pro-32k-250115\",\n",
        "    prompt=\"Translate the input text from English to Chinese, French, and Japanese.\",\n",
        ")\n",
        "\n",
        "response = agent.run(\"Inspire Creativity, Enrich Life!\")\n",
        "\n",
        "print('Translated text from agent:\\n')\n",
        "print(response)"
      ]
    },
    {
      "cell_type": "markdown",
      "metadata": {
        "id": "o7XyOQM30u27"
      },
      "source": [
        "# 🛠️ Basic usage"
      ]
    },
    {
      "cell_type": "markdown",
      "metadata": {
        "id": "86v3HcBsIdLf"
      },
      "source": [
        "## Overview\n",
        "\n",
        "The entire list of model ID can be found [here](https://www.volcengine.com/docs/82379/1330310). The capabilities of each model is listed as follows:\n",
        "\n",
        "| Model ID      | Image understanding | Video generation | Function calling |\n",
        "| - | - | - | - |\n",
        "| doubao-1.5-vision-pro-32k-250115 | ✅ | | |\n",
        "| doubao-seaweed-241128 | | ✅ | |\n",
        "| ... | | | |"
      ]
    },
    {
      "cell_type": "markdown",
      "metadata": {
        "id": "tzm3g2RQGQIh"
      },
      "source": [
        "## Text capabilities\n"
      ]
    },
    {
      "cell_type": "markdown",
      "metadata": {
        "id": "zU_eb9k5GW_-"
      },
      "source": [
        "### Chat\n",
        "\n",
        "A simplest chat is in the form of single-turn, which has no memory. The history messages whether from user or model will not be saved. For example:"
      ]
    },
    {
      "cell_type": "code",
      "execution_count": null,
      "metadata": {
        "colab": {
          "base_uri": "https://localhost:8080/"
        },
        "id": "CgT1DSPH0u27",
        "outputId": "f183cb94-8620-4a1c-890d-b4227fbc75ff"
      },
      "outputs": [
        {
          "name": "stdout",
          "output_type": "stream",
          "text": [
            "Response from the first chat:\n",
            "\n",
            "Got it! From now on, my name is ArkIntelligence. Nice to meet you!\n",
            "\n",
            "\n",
            "Response from the second chat:\n",
            "\n",
            "I don't remember the last prompt as I don't have a memory of previous interactions in that way. My name is Doubao. \n"
          ]
        }
      ],
      "source": [
        "from arkintelligence.model import ArkModel\n",
        "\n",
        "model = ArkModel(model=\"doubao-1.5-pro-32k-250115\")\n",
        "\n",
        "res1 = model.chat(prompt=\"Your name is ArkIntelligence.\")\n",
        "res2 = model.chat(prompt=\"Do you remember the last prompt? What is your name?\")\n",
        "\n",
        "print('Response from the first chat:\\n')\n",
        "print(res1)\n",
        "\n",
        "print('\\n')\n",
        "\n",
        "print('Response from the second chat:\\n')\n",
        "print(res2)"
      ]
    },
    {
      "cell_type": "markdown",
      "metadata": {
        "id": "K_S5v1-36CT3"
      },
      "source": [
        "In the above code, the first chat sets a name for the model, but this message is not saved, hence the second chat will not return the preset name."
      ]
    },
    {
      "cell_type": "markdown",
      "metadata": {
        "id": "5gpFnnfV0u27"
      },
      "source": [
        "### Chat with prifix/session cache\n",
        "\n",
        "Sometimes you need a multiple turn chatting, you can enable history message saving by setting `enable_context=True` during model initialization. For example:"
      ]
    },
    {
      "cell_type": "code",
      "execution_count": null,
      "metadata": {
        "colab": {
          "base_uri": "https://localhost:8080/"
        },
        "id": "Dy8IJ2vI0u27",
        "outputId": "32b3c508-6bc6-495f-e188-f218dd9f8d4d"
      },
      "outputs": [
        {
          "name": "stdout",
          "output_type": "stream",
          "text": [
            "Response from the first chat:\n",
            "\n",
            "Thank you for naming me ArkIntelligence. From now on, I'll serve you under this name! If you have any questions, just tell me. \n",
            "\n",
            "\n",
            "Response from the second chat:\n",
            "\n",
            "My name is ArkIntelligence. I remember you assigned this name to me in the previous prompt.\n"
          ]
        }
      ],
      "source": [
        "from arkintelligence.model import ArkModel\n",
        "\n",
        "model = ArkModel(\n",
        "    model=\"doubao-1.5-pro-32k-250115\",\n",
        "    enbale_context=True # Make the model remember the context\n",
        "    )\n",
        "\n",
        "res1 = model.chat(prompt=\"Your name is ArkIntelligence.\")\n",
        "res2 = model.chat(prompt=\"Do you remember the last prompt? What is your name?\")\n",
        "\n",
        "print('Response from the first chat:\\n')\n",
        "print(res1)\n",
        "\n",
        "print('\\n')\n",
        "\n",
        "print('Response from the second chat:\\n')\n",
        "print(res2)"
      ]
    },
    {
      "cell_type": "markdown",
      "source": [
        "The model can remember the previous user inputs. Besides, using prefix and session cache can also:\n",
        "\n",
        "- Performance improvement: make your inference faster\n",
        "- Cost saving: make your token cost less\n",
        "\n",
        "The context will be managed automatically in ArkIntelligence!"
      ],
      "metadata": {
        "id": "kxRjU8b4qcIK"
      }
    },
    {
      "cell_type": "markdown",
      "source": [
        "### Chat with stream [WIP]\n",
        "\n",
        "Sometimes, your will get a long output from model. With stream output, you can get a rapid response:"
      ],
      "metadata": {
        "id": "6TJ2ym7uqcBF"
      }
    },
    {
      "cell_type": "code",
      "source": [
        "# The following code is WIP\n",
        "\n",
        "# from arkintelligence.model import ArkModel\n",
        "\n",
        "# model = ArkModel(model=\"doubao-1.5-pro-32k-250115\", stream=True)\n",
        "\n",
        "# response = model.chat(prompt=\"Please help me to write an introduction of Bytedance with nearly 500 words.\")\n",
        "\n",
        "# print(response)"
      ],
      "metadata": {
        "id": "HYP4qhZcrAyY"
      },
      "execution_count": null,
      "outputs": []
    },
    {
      "cell_type": "markdown",
      "metadata": {
        "id": "F5ntuS7B0u27"
      },
      "source": [
        "### Chat with attachment [WIP]\n",
        "\n",
        "We support upload your single file with format of `.txt`, for example:"
      ]
    },
    {
      "cell_type": "code",
      "execution_count": null,
      "metadata": {
        "id": "fwvyrYsV0u27"
      },
      "outputs": [],
      "source": [
        "# ======== [WIP] ========\n",
        "# from arkintelligence.model import ArkModel\n",
        "\n",
        "# model = ArkModel(model=\"doubao-1.5-pro-32k-250115\")\n",
        "\n",
        "# response = model.chat(\n",
        "#     prompt=\"Your name is ArkIntelligence.\",\n",
        "#     attachment=\"FILE_PATH\",  # TODO(LotsoTeddy): Parsing attachment\n",
        "# )\n",
        "# response"
      ]
    },
    {
      "cell_type": "markdown",
      "metadata": {
        "id": "qGIgSZBa0u27"
      },
      "source": [
        "## Vision capabilities\n",
        "\n",
        "Ark provides capabilities about multi-media, such as vision and sounds. Here we introduce the vision-related demos. The vision-related task is devided into image understanding and video generation.\n",
        "\n",
        "- **Image understanding**: this task can read information from one or several images and return the content to the user\n",
        "- **Video generation**: this task can generate video from text and images\n"
      ]
    },
    {
      "cell_type": "markdown",
      "metadata": {
        "id": "ULwq7QJhGeae"
      },
      "source": [
        "### Image understanding\n",
        "\n",
        "We use the model `doubao-1.5-vision-pro-32k-250115` to understand the following image:\n",
        "\n",
        "<img src='https://ark-tutorial.tos-cn-beijing.volces.com/assets/images/cat.png' style='width:100px'>"
      ]
    },
    {
      "cell_type": "code",
      "execution_count": null,
      "metadata": {
        "colab": {
          "base_uri": "https://localhost:8080/"
        },
        "id": "Vk9lq6bB0u27",
        "outputId": "50873e74-4e2b-4feb-a041-5ef747dfb2f6"
      },
      "outputs": [
        {
          "name": "stdout",
          "output_type": "stream",
          "text": [
            "Response from model:\n",
            "\n",
            "This is a close - up photograph of a charming cat. The cat has a soft, light gray coat with subtle darker gray stripes running through it, giving its fur a delicate and textured appearance. Its face is round and endearing, with large, round eyes that are a dark, captivating shade, making the cat look incredibly alert and curious. The cat's nose is small and pink, adding a touch of cuteness to its overall look.\n",
            "\n",
            "Long, white whiskers extend from either side of its muzzle, emphasizing its feline features. The cat's ears are upright and have a light pink inner lining, covered with fine fur. It is lying down on what appears to be a light - colored surface, possibly a carpet or a mat.\n",
            "\n",
            "In the background, there are some indistinct objects. There is a glimpse of what seems to be a piece of furniture, perhaps a chair with a dark backrest, and some other household items that are out of focus, ensuring that the cat remains the central subject of the image. The overall atmosphere of the picture is cozy and intimate, capturing a moment of the cat's relaxed state at home. \n"
          ]
        }
      ],
      "source": [
        "from arkintelligence.model import ArkModel\n",
        "\n",
        "IMAGE_PATH = \"https://ark-tutorial.tos-cn-beijing.volces.com/assets/images/cat.png\"\n",
        "model = ArkModel(\n",
        "    model=\"doubao-1.5-vision-pro-32k-250115\",  # Use vision model here\n",
        ")\n",
        "\n",
        "response = model.process_image(\n",
        "    prompt=\"Please describe this image with details.\",\n",
        "    attachment=IMAGE_PATH,\n",
        ")\n",
        "\n",
        "print('Response from model:\\n')\n",
        "print(response)"
      ]
    },
    {
      "cell_type": "markdown",
      "metadata": {
        "id": "kycGTtYd0u27"
      },
      "source": [
        "### Video generation\n",
        "\n",
        "We use `doubao-seaweed-241128` model to generate a video according to a static image and prompt:"
      ]
    },
    {
      "cell_type": "code",
      "execution_count": null,
      "metadata": {
        "colab": {
          "base_uri": "https://localhost:8080/"
        },
        "id": "eC7f0ipR0u27",
        "outputId": "d5a0f822-9d66-4d9b-a6f6-eb0e7859564e"
      },
      "outputs": [
        {
          "name": "stdout",
          "output_type": "stream",
          "text": [
            "Waiting for video generation, this may take a while...\n",
            "\n",
            "Generated video url: https://ark-content-generation-cn-beijing.tos-cn-beijing.volces.com/doubao-seaweed/doubao-seaweed-2100390175-02174357478596100000000000000000000ffffac15606b93ad78.mp4?X-Tos-Algorithm=TOS4-HMAC-SHA256&X-Tos-Credential=AKLTYjg3ZjNlOGM0YzQyNGE1MmI2MDFiOTM3Y2IwMTY3OTE%2F20250402%2Fcn-beijing%2Ftos%2Frequest&X-Tos-Date=20250402T062038Z&X-Tos-Expires=86400&X-Tos-Signature=d3e06675512df758b34e4e64c10a1ebdcbd32bddaf7e6eb67c29177b46cb7b27&X-Tos-SignedHeaders=host\n"
          ]
        }
      ],
      "source": [
        "REF_IMAGE_PATH = \"https://ark-tutorial.tos-cn-beijing.volces.com/assets/images/cat.png\"\n",
        "model = ArkModel(\n",
        "    model=\"doubao-seaweed-241128\",  # Use video generation model here\n",
        ")\n",
        "\n",
        "response = model.generate_video(\n",
        "    prompt=\"Please generate a video with a cat running.\",\n",
        "    attachment=REF_IMAGE_PATH,\n",
        ")\n",
        "\n",
        "# This may take a while...\n",
        "print(f\"Generated video url: {response}\")"
      ]
    },
    {
      "cell_type": "markdown",
      "metadata": {
        "id": "YYcHPock0u27"
      },
      "source": [
        "For more models that support video generation, you can visit [here]().\n",
        "\n",
        "If you want to make the video more vivid, maybe you need: prompt refine."
      ]
    },
    {
      "cell_type": "markdown",
      "metadata": {
        "id": "gqWSml5i0u28"
      },
      "source": [
        "# 🤖 Agent"
      ]
    },
    {
      "cell_type": "markdown",
      "metadata": {
        "id": "Ta50kBeYKBFM"
      },
      "source": [
        "## A minimal agent\n",
        "\n",
        "A simple agent can be built with several lines. The `name` field is not necessary, but provide it will make agent more intelligent!"
      ]
    },
    {
      "cell_type": "code",
      "execution_count": null,
      "metadata": {
        "id": "ejpD_lRz0u28"
      },
      "outputs": [],
      "source": [
        "from arkintelligence.agent import ArkAgent\n",
        "\n",
        "agent = ArkAgent(\n",
        "    name=\"Meeting assistant\",\n",
        "    model=\"deepseek-v3-250324\",\n",
        ")"
      ]
    },
    {
      "cell_type": "markdown",
      "metadata": {
        "id": "nqEpIpze0u28"
      },
      "source": [
        "Then, you can run it with an input prompt:"
      ]
    },
    {
      "cell_type": "code",
      "execution_count": null,
      "metadata": {
        "colab": {
          "base_uri": "https://localhost:8080/",
          "height": 125
        },
        "id": "Cqz2hfXy0u28",
        "outputId": "ead5a37e-e022-46d5-b97f-1e9fb75b8d32"
      },
      "outputs": [
        {
          "data": {
            "application/vnd.google.colaboratory.intrinsic+json": {
              "type": "string"
            },
            "text/plain": [
              "'Hi there! 👋 I\\'m your **Meeting Assistant**, here to make your meetings smoother and more productive. Here\\'s what I can do for you:\\n\\n### **Who I Am**  \\nI’m an AI-powered assistant designed to help with meeting-related tasks—whether it’s scheduling, note-taking, summarizing discussions, or follow-ups.\\n\\n### **What I Can Do**  \\n✅ **Schedule & Coordinate Meetings** – Find the best time for everyone, send invites, and handle reminders.  \\n✅ **Take Notes** – Capture key points, decisions, and action items in real time (if integrated with your meeting tools).  \\n✅ **Summarize Discussions** – Provide concise recaps with highlights, deadlines, and next steps.  \\n✅ **Generate Follow-ups** – Draft emails or task lists based on meeting outcomes.  \\n✅ **Answer Questions** – Need info from past meetings? I can help retrieve details.  \\n\\nLet me know how I can assist—just give me the details! 🚀  \\n\\n*(Example: \"Set up a 30-minute team meeting next week\" or \"Summarize this transcript.\")*'"
            ]
          },
          "execution_count": 12,
          "metadata": {},
          "output_type": "execute_result"
        }
      ],
      "source": [
        "response = agent.run(\"Who are you and what can you do?\")\n",
        "response"
      ]
    },
    {
      "cell_type": "markdown",
      "metadata": {
        "id": "R8OCLym00u28"
      },
      "source": [
        "Introduce what the agent is."
      ]
    },
    {
      "cell_type": "markdown",
      "metadata": {
        "id": "7I2sFFUVKjK7"
      },
      "source": [
        "## Prompt engineering\n",
        "\n",
        "Prompt engineering is important that can make your prompt more rich and useful for models."
      ]
    },
    {
      "cell_type": "markdown",
      "metadata": {
        "id": "cTTDeIAxKjNO"
      },
      "source": [
        "### Prompt usage\n",
        "\n",
        "Prompt can be used for interacting with models. The models understand your prompt and give responses.\n",
        "\n",
        "For example, with a prompt, a complex English statement can be optimized to be more concise:"
      ]
    },
    {
      "cell_type": "code",
      "execution_count": null,
      "metadata": {
        "colab": {
          "base_uri": "https://localhost:8080/"
        },
        "id": "R1qrs9s10u28",
        "outputId": "27588e71-7692-43cc-e20d-6869626c3ce0"
      },
      "outputs": [
        {
          "name": "stdout",
          "output_type": "stream",
          "text": [
            "\n",
            "Q: I will give you a sentence, please make the sentence more concise and elegant.\n",
            "\n",
            "A: Sure! Please provide the sentence, and I'll do my best to make it more concise and elegant.\n",
            "\n",
            "\n",
            "\n",
            "Q: In a Chinese house, the kitchen is only a place for cooking things; but in many Western houses, the kitchen is not only a place where people cook meals and eat them but also a place where the family members or friends usually meet each other.\n",
            "\n",
            "A: In Chinese houses, the kitchen serves solely for cooking. In contrast, in many Western homes, it's not just a cooking and dining area but also a gathering place for family and friends. \n",
            "\n",
            "\n"
          ]
        }
      ],
      "source": [
        "from arkintelligence.model import ArkModel\n",
        "\n",
        "model = ArkModel(\n",
        "    model=\"doubao-1.5-pro-32k-250115\",\n",
        "    enbale_context=True,\n",
        ")\n",
        "\n",
        "prompt1 = \"I will give you a sentence, please make the sentence more concise and elegant.\"\n",
        "prompt2 = \"In a Chinese house, the kitchen is only a place for cooking things; but in many Western houses, the kitchen is not only a place where people cook meals and eat them but also a place where the family members or friends usually meet each other.\"\n",
        "\n",
        "res1 = model.chat(prompt1)\n",
        "res2 = model.chat(prompt2)\n",
        "\n",
        "print(f'''\n",
        "Q: {prompt1}\\n\n",
        "A: {res1}\\n\n",
        "\\n\n",
        "Q: {prompt2}\\n\n",
        "A: {res2}\n",
        "''')"
      ]
    },
    {
      "cell_type": "markdown",
      "metadata": {
        "id": "u2nZWUb70u28"
      },
      "source": [
        "### Prompt refine\n",
        "\n",
        "Refine prompts is important, the comparision is as follows. We use a simple and a refined prompt to generate images, then compare the image quality.\n",
        "\n",
        "In fact, you can build an agent to refine prompt:"
      ]
    },
    {
      "cell_type": "code",
      "execution_count": null,
      "metadata": {
        "colab": {
          "base_uri": "https://localhost:8080/"
        },
        "id": "o_21pcLI0u28",
        "outputId": "aa34f896-8fea-4400-c891-f9376e9bed6b"
      },
      "outputs": [
        {
          "name": "stdout",
          "output_type": "stream",
          "text": [
            "Original prompt: Draw a cute golden british shorthair cat.\n",
            "\n",
            "\n",
            "Refined prompt: Create an image of an adorably cute Golden British Shorthair cat. Focus on capturing the breed's characteristic round face, plush coat with a golden hue, and large, expressive eyes. Ensure the cat has a friendly, endearing pose, perhaps sitting upright, with its soft fur looking fluffy and inviting. Use warm, soft - toned lighting to enhance the cuteness and give the overall image a cozy, appealing aesthetic.\n"
          ]
        }
      ],
      "source": [
        "from arkintelligence.agent import ArkAgent\n",
        "\n",
        "prompt = \"Draw a cute golden british shorthair cat.\"\n",
        "\n",
        "refine_agent = ArkAgent(\n",
        "    name=\"Prompt refine assistant\",\n",
        "    model=\"doubao-1-5-pro-256k-250115\",\n",
        "    prompt=\"Refine the prompt to make it more suitable for image generation.\",\n",
        ")\n",
        "prompt_refined = refine_agent.run(prompt)\n",
        "\n",
        "print(f\"Original prompt: {prompt}\")\n",
        "print('\\n')\n",
        "print(f\"Refined prompt: {prompt_refined}\")"
      ]
    },
    {
      "cell_type": "markdown",
      "metadata": {
        "id": "oTogTxvV0u28"
      },
      "source": [
        "Then we use the two prompts to generate videos and see the differents:"
      ]
    },
    {
      "cell_type": "code",
      "execution_count": null,
      "metadata": {
        "colab": {
          "base_uri": "https://localhost:8080/"
        },
        "id": "KORB226K0u28",
        "outputId": "66df5b99-f592-46ce-f2c8-355fb48d9bf2"
      },
      "outputs": [
        {
          "name": "stdout",
          "output_type": "stream",
          "text": [
            "Original video url is: https://ark-content-generation-cn-beijing.tos-cn-beijing.volces.com/doubao-seaweed/doubao-seaweed-2100390175-02174357522993500000000000000000000ffffac15606b87092c.mp4?X-Tos-Algorithm=TOS4-HMAC-SHA256&X-Tos-Credential=AKLTYjg3ZjNlOGM0YzQyNGE1MmI2MDFiOTM3Y2IwMTY3OTE%2F20250402%2Fcn-beijing%2Ftos%2Frequest&X-Tos-Date=20250402T062757Z&X-Tos-Expires=86400&X-Tos-Signature=ed38c5457d2a92b48c4ba79df28c4607efa94aeec1f82fb876a666723095a4e2&X-Tos-SignedHeaders=host\n",
            "Refined video url is: https://ark-content-generation-cn-beijing.tos-cn-beijing.volces.com/doubao-seaweed/doubao-seaweed-2100390175-02174357528376500000000000000000000ffffac15606b5a5252.mp4?X-Tos-Algorithm=TOS4-HMAC-SHA256&X-Tos-Credential=AKLTYjg3ZjNlOGM0YzQyNGE1MmI2MDFiOTM3Y2IwMTY3OTE%2F20250402%2Fcn-beijing%2Ftos%2Frequest&X-Tos-Date=20250402T062851Z&X-Tos-Expires=86400&X-Tos-Signature=92940cc3b3ae17a1b52864371249f699f716d95f3f28ede79255aa9f1853235c&X-Tos-SignedHeaders=host\n"
          ]
        }
      ],
      "source": [
        "from arkintelligence.model import ArkModel\n",
        "\n",
        "model = ArkModel(\n",
        "    model=\"doubao-seaweed-241128\",  # Use video generation model here\n",
        ")\n",
        "\n",
        "video = model.generate_video(\n",
        "    prompt=prompt,\n",
        ")\n",
        "video_with_refine = model.generate_video(\n",
        "    prompt=prompt_refined,\n",
        ")\n",
        "\n",
        "print(f'Original video url is: {video}')\n",
        "print(f'Refined video url is: {video_with_refine}')"
      ]
    },
    {
      "cell_type": "markdown",
      "metadata": {
        "id": "dB6KcEvV0u28"
      },
      "source": [
        "### Equip to agent [WIP]\n",
        "\n",
        "You can enable prompt refine in your agent, the agent will automatically refine your **first** prompt with a default refine prompt (you can modify this by pass `refine_prompt`). The usage is as follows:"
      ]
    },
    {
      "cell_type": "code",
      "execution_count": null,
      "metadata": {
        "id": "7IZDBjdl0u28"
      },
      "outputs": [],
      "source": [
        "# TODO, WIP\n",
        "\n",
        "# from arkintelligence.agent import ArkAgent\n",
        "\n",
        "# prompt = \"Draw a cute golden british shorthair cat.\"\n",
        "\n",
        "# refine_agent = ArkAgent(\n",
        "#     name=\"Prompt refine assistant\",\n",
        "#     model=\"doubao-1-5-pro-256k-250115\",\n",
        "#     prompt=\"Refine the prompt to make it more suitable for image generation.\",\n",
        "#     refine_requirement=\"Refine the prompt to make it more suitable for image generation.\",\n",
        "# )\n",
        "# prompt_refined = refine_agent.run(prompt)\n",
        "\n",
        "# print(f\"Original prompt:\\n{prompt}\")\n",
        "# print(f\"Refined prompt:\\n{prompt_refined}\")"
      ]
    },
    {
      "cell_type": "markdown",
      "metadata": {
        "id": "9P1okD4n0u28"
      },
      "source": [
        "## Function calling\n",
        "\n",
        "The Ark agent can call your local function to finish your task."
      ]
    },
    {
      "cell_type": "markdown",
      "metadata": {
        "id": "dD0NiTO8L303"
      },
      "source": [
        "### Create a tool\n",
        "\n",
        "Before initializing an agent, you need to create a tool (which is just a Python function) to define tool logic. For example, we provide a `visit_url` here to read the website information:"
      ]
    },
    {
      "cell_type": "code",
      "execution_count": null,
      "metadata": {
        "id": "UBRiXznW0u28"
      },
      "outputs": [],
      "source": [
        "from arkintelligence.tool import ArkTool\n",
        "\n",
        "\n",
        "@ArkTool\n",
        "def visit_url(url: str):\n",
        "    \"\"\"Visit a URL and return the content.\n",
        "\n",
        "    This function can receive an url, and request to the url, then get the content of this url.\n",
        "\n",
        "    Args:\n",
        "        url (str): The URL to visit, generally begins with `http`.\n",
        "\n",
        "    Returns:\n",
        "        str: The content of the URL.\n",
        "    \"\"\"\n",
        "    response = \"This url introduces ArkIntelligence, including basic usage, agent building, and other advanced development methdology.\"\n",
        "    return response"
      ]
    },
    {
      "cell_type": "markdown",
      "metadata": {
        "id": "a7m7weHn0u28"
      },
      "source": [
        "Any function can be decorated by `ArkTool` to be a tool, which can be invoked by Ark agent.\n",
        "\n",
        "\n",
        "**NOTE:** The docstring of function is important, as its name, description and arguments will be sent to the model. The detailed docstring usage can be found [here]()."
      ]
    },
    {
      "cell_type": "markdown",
      "metadata": {
        "id": "2hr7ZLxqMLqd"
      },
      "source": [
        "### Equip to agent\n",
        "\n",
        "You need to use the model which can support function calling.\n",
        "\n",
        "\n",
        "The created tool can be equipped to an agent with just only one option:"
      ]
    },
    {
      "cell_type": "code",
      "execution_count": null,
      "metadata": {
        "colab": {
          "base_uri": "https://localhost:8080/"
        },
        "id": "UxAHNWEl0u28",
        "outputId": "b23f75df-5573-4125-ff4f-a397f1a28257"
      },
      "outputs": [
        {
          "output_type": "stream",
          "name": "stdout",
          "text": [
            "The content of 'https://www.foo.bar.com/' introduces ArkIntelligence, including basic usage, agent building, and other advanced development methodology. \n"
          ]
        }
      ],
      "source": [
        "from arkintelligence.agent import ArkAgent\n",
        "\n",
        "agent = ArkAgent(\n",
        "    name=\"Web search assistant\",\n",
        "    model=\"doubao-1.5-pro-32k-250115\",\n",
        "    tools=[\"visit_url\"],\n",
        ")\n",
        "\n",
        "response = agent.run(\"What is the content of 'https://www.foo.bar.com/'?\")\n",
        "\n",
        "print(response)"
      ]
    },
    {
      "cell_type": "markdown",
      "metadata": {
        "id": "JoQF4T_tNt9z"
      },
      "source": [
        "In the output, the model can return our preset website content."
      ]
    },
    {
      "cell_type": "markdown",
      "metadata": {
        "id": "2-ZC3WfA0u28"
      },
      "source": [
        "## RAG\n",
        "\n",
        "RAG enhances model response. In Ark, we provide concise method to enbale RAG.\n",
        "\n",
        "### Knowledge base\n",
        "\n",
        "Before creating knowledge base, we prepare `capitals.txt` file to save some knowledge items:\n",
        "\n"
      ]
    },
    {
      "cell_type": "code",
      "source": [
        "with open(\"capitals.txt\", \"w\", encoding=\"utf-8\") as file:\n",
        "    file.write('''\n",
        "    The capital of A is B;\n",
        "    The capital of B is C;\n",
        "    The capital of C is E;\n",
        "    The capital of of E is Z.\n",
        "    ''')"
      ],
      "metadata": {
        "id": "LhDssQI-fDmo"
      },
      "execution_count": null,
      "outputs": []
    },
    {
      "cell_type": "markdown",
      "source": [
        "You can create the knowledge base with `capitals.txt` file like this:"
      ],
      "metadata": {
        "id": "WQgnKo60fD3W"
      }
    },
    {
      "cell_type": "code",
      "execution_count": null,
      "metadata": {
        "id": "ATH0cDxq0u28",
        "colab": {
          "base_uri": "https://localhost:8080/",
          "height": 81,
          "referenced_widgets": [
            "fffb5b4208844f968ddfb1f205fae933",
            "f5685078476a47279d9b5b898ff33949",
            "5ab559225c764ca1b909f0746755fa8d",
            "61d02a7b2b0740ac8bcd47935aee467f",
            "cae074d0060b4d20a059f9195a5297b2",
            "4184d40bd22543e4a4e6b9f66a7d30bd",
            "836f1ca8b7d04bbbbd6d202f566c3fc8",
            "4639895f5ca24cbeace3a6e33dc28541",
            "1495ca68417a479ca573b3cf96dfc92c",
            "9c781e4a03e746858510e0e4060c1302",
            "64b0c7221b1642a5b8152107ec1e9014",
            "7dd5730e31814256aa80d48e05c0bd86",
            "50a11fbd095d4c4484786a00ed12ef8a",
            "d19771e91f80475ea39b824d9453efd0",
            "cd1624cf21b14eb99d06345962081a58",
            "204f00f0c5e440de82f00a7a9e270f9b",
            "02ac291f1ced4e5887153ed5f7c09432",
            "87e4511c889c42feae9a23e9b0ade69f",
            "9c61bf4d7fa44a349b08aa6592355052",
            "b394741e92fa410f9b509657e410bb75",
            "196e69269dcc4392b1b0a3ea799995a2",
            "3d5ab562691e40eaa487d421793db6da"
          ]
        },
        "outputId": "fcaa7be2-3669-4396-be8d-dc4d6d1b1b95"
      },
      "outputs": [
        {
          "output_type": "display_data",
          "data": {
            "text/plain": [
              "Parsing nodes:   0%|          | 0/1 [00:00<?, ?it/s]"
            ],
            "application/vnd.jupyter.widget-view+json": {
              "version_major": 2,
              "version_minor": 0,
              "model_id": "fffb5b4208844f968ddfb1f205fae933"
            }
          },
          "metadata": {}
        },
        {
          "output_type": "display_data",
          "data": {
            "text/plain": [
              "Generating embeddings:   0%|          | 0/1 [00:00<?, ?it/s]"
            ],
            "application/vnd.jupyter.widget-view+json": {
              "version_major": 2,
              "version_minor": 0,
              "model_id": "7dd5730e31814256aa80d48e05c0bd86"
            }
          },
          "metadata": {}
        }
      ],
      "source": [
        "from arkintelligence.knowledgebase import ArkKnowledgeBase\n",
        "\n",
        "data = 'capitals.txt'\n",
        "\n",
        "kb = ArkKnowledgeBase(\n",
        "    name=\"ArkIntelligence\",\n",
        "    description=\"ArkIntelligence is a company that provides AI solutions.\",\n",
        "    data=data\n",
        ")"
      ]
    },
    {
      "cell_type": "markdown",
      "metadata": {
        "id": "5rXAIUjh0u28"
      },
      "source": [
        "During creation, your data will be uploaded to Ark platform and processed by embedding models such as `doubao-embed` (embed model API can be found [here]()). The processed data is stored in your local memory rather than cloud space.\n",
        "\n",
        "### Equip to agent\n",
        "\n",
        "Equip the knowledge base to your agent like this:"
      ]
    },
    {
      "cell_type": "code",
      "execution_count": null,
      "metadata": {
        "id": "Afk8aV2O0u28",
        "colab": {
          "base_uri": "https://localhost:8080/"
        },
        "outputId": "74c7d487-37c4-4216-990d-f6070420d1f9"
      },
      "outputs": [
        {
          "output_type": "stream",
          "name": "stdout",
          "text": [
            "Based on Reference No.1, the capital of E is Z. \n",
            "\n",
            "The reference provides a clear sequence of capitals:\n",
            "- The capital of A is B\n",
            "- The capital of B is C \n",
            "- The capital of C is E\n",
            "- The capital of E is Z\n",
            "\n",
            "The reference appears to be useful and relevant for answering this question, and the retrieval score of 0.82 indicates good confidence in the result. \n",
            "\n",
            "Final answer: The capital of E is Z.\n"
          ]
        }
      ],
      "source": [
        "agent = ArkAgent(\n",
        "    name=\"Knowledge base agent\",\n",
        "    model=\"deepseek-v3-250324\",\n",
        "    prompt=\"You are a helpful assistant.\",\n",
        "    knowldgebase=kb,\n",
        ")\n",
        "response = agent.run(\"What is the capital of E?\")\n",
        "\n",
        "print(response)"
      ]
    },
    {
      "cell_type": "markdown",
      "metadata": {
        "id": "WjGbBt6h0u29"
      },
      "source": [
        "# Awesome samples\n",
        "\n",
        "## Auto-summary\n"
      ]
    }
  ],
  "metadata": {
    "colab": {
      "provenance": [],
      "toc_visible": true,
      "include_colab_link": true
    },
    "kernelspec": {
      "display_name": "arkintelligence",
      "language": "python",
      "name": "python3"
    },
    "language_info": {
      "codemirror_mode": {
        "name": "ipython",
        "version": 3
      },
      "file_extension": ".py",
      "mimetype": "text/x-python",
      "name": "python",
      "nbconvert_exporter": "python",
      "pygments_lexer": "ipython3",
      "version": "3.10.16"
    },
    "widgets": {
      "application/vnd.jupyter.widget-state+json": {
        "fffb5b4208844f968ddfb1f205fae933": {
          "model_module": "@jupyter-widgets/controls",
          "model_name": "HBoxModel",
          "model_module_version": "1.5.0",
          "state": {
            "_dom_classes": [],
            "_model_module": "@jupyter-widgets/controls",
            "_model_module_version": "1.5.0",
            "_model_name": "HBoxModel",
            "_view_count": null,
            "_view_module": "@jupyter-widgets/controls",
            "_view_module_version": "1.5.0",
            "_view_name": "HBoxView",
            "box_style": "",
            "children": [
              "IPY_MODEL_f5685078476a47279d9b5b898ff33949",
              "IPY_MODEL_5ab559225c764ca1b909f0746755fa8d",
              "IPY_MODEL_61d02a7b2b0740ac8bcd47935aee467f"
            ],
            "layout": "IPY_MODEL_cae074d0060b4d20a059f9195a5297b2"
          }
        },
        "f5685078476a47279d9b5b898ff33949": {
          "model_module": "@jupyter-widgets/controls",
          "model_name": "HTMLModel",
          "model_module_version": "1.5.0",
          "state": {
            "_dom_classes": [],
            "_model_module": "@jupyter-widgets/controls",
            "_model_module_version": "1.5.0",
            "_model_name": "HTMLModel",
            "_view_count": null,
            "_view_module": "@jupyter-widgets/controls",
            "_view_module_version": "1.5.0",
            "_view_name": "HTMLView",
            "description": "",
            "description_tooltip": null,
            "layout": "IPY_MODEL_4184d40bd22543e4a4e6b9f66a7d30bd",
            "placeholder": "​",
            "style": "IPY_MODEL_836f1ca8b7d04bbbbd6d202f566c3fc8",
            "value": "Parsing nodes: 100%"
          }
        },
        "5ab559225c764ca1b909f0746755fa8d": {
          "model_module": "@jupyter-widgets/controls",
          "model_name": "FloatProgressModel",
          "model_module_version": "1.5.0",
          "state": {
            "_dom_classes": [],
            "_model_module": "@jupyter-widgets/controls",
            "_model_module_version": "1.5.0",
            "_model_name": "FloatProgressModel",
            "_view_count": null,
            "_view_module": "@jupyter-widgets/controls",
            "_view_module_version": "1.5.0",
            "_view_name": "ProgressView",
            "bar_style": "success",
            "description": "",
            "description_tooltip": null,
            "layout": "IPY_MODEL_4639895f5ca24cbeace3a6e33dc28541",
            "max": 1,
            "min": 0,
            "orientation": "horizontal",
            "style": "IPY_MODEL_1495ca68417a479ca573b3cf96dfc92c",
            "value": 1
          }
        },
        "61d02a7b2b0740ac8bcd47935aee467f": {
          "model_module": "@jupyter-widgets/controls",
          "model_name": "HTMLModel",
          "model_module_version": "1.5.0",
          "state": {
            "_dom_classes": [],
            "_model_module": "@jupyter-widgets/controls",
            "_model_module_version": "1.5.0",
            "_model_name": "HTMLModel",
            "_view_count": null,
            "_view_module": "@jupyter-widgets/controls",
            "_view_module_version": "1.5.0",
            "_view_name": "HTMLView",
            "description": "",
            "description_tooltip": null,
            "layout": "IPY_MODEL_9c781e4a03e746858510e0e4060c1302",
            "placeholder": "​",
            "style": "IPY_MODEL_64b0c7221b1642a5b8152107ec1e9014",
            "value": " 1/1 [00:00&lt;00:00, 50.12it/s]"
          }
        },
        "cae074d0060b4d20a059f9195a5297b2": {
          "model_module": "@jupyter-widgets/base",
          "model_name": "LayoutModel",
          "model_module_version": "1.2.0",
          "state": {
            "_model_module": "@jupyter-widgets/base",
            "_model_module_version": "1.2.0",
            "_model_name": "LayoutModel",
            "_view_count": null,
            "_view_module": "@jupyter-widgets/base",
            "_view_module_version": "1.2.0",
            "_view_name": "LayoutView",
            "align_content": null,
            "align_items": null,
            "align_self": null,
            "border": null,
            "bottom": null,
            "display": null,
            "flex": null,
            "flex_flow": null,
            "grid_area": null,
            "grid_auto_columns": null,
            "grid_auto_flow": null,
            "grid_auto_rows": null,
            "grid_column": null,
            "grid_gap": null,
            "grid_row": null,
            "grid_template_areas": null,
            "grid_template_columns": null,
            "grid_template_rows": null,
            "height": null,
            "justify_content": null,
            "justify_items": null,
            "left": null,
            "margin": null,
            "max_height": null,
            "max_width": null,
            "min_height": null,
            "min_width": null,
            "object_fit": null,
            "object_position": null,
            "order": null,
            "overflow": null,
            "overflow_x": null,
            "overflow_y": null,
            "padding": null,
            "right": null,
            "top": null,
            "visibility": null,
            "width": null
          }
        },
        "4184d40bd22543e4a4e6b9f66a7d30bd": {
          "model_module": "@jupyter-widgets/base",
          "model_name": "LayoutModel",
          "model_module_version": "1.2.0",
          "state": {
            "_model_module": "@jupyter-widgets/base",
            "_model_module_version": "1.2.0",
            "_model_name": "LayoutModel",
            "_view_count": null,
            "_view_module": "@jupyter-widgets/base",
            "_view_module_version": "1.2.0",
            "_view_name": "LayoutView",
            "align_content": null,
            "align_items": null,
            "align_self": null,
            "border": null,
            "bottom": null,
            "display": null,
            "flex": null,
            "flex_flow": null,
            "grid_area": null,
            "grid_auto_columns": null,
            "grid_auto_flow": null,
            "grid_auto_rows": null,
            "grid_column": null,
            "grid_gap": null,
            "grid_row": null,
            "grid_template_areas": null,
            "grid_template_columns": null,
            "grid_template_rows": null,
            "height": null,
            "justify_content": null,
            "justify_items": null,
            "left": null,
            "margin": null,
            "max_height": null,
            "max_width": null,
            "min_height": null,
            "min_width": null,
            "object_fit": null,
            "object_position": null,
            "order": null,
            "overflow": null,
            "overflow_x": null,
            "overflow_y": null,
            "padding": null,
            "right": null,
            "top": null,
            "visibility": null,
            "width": null
          }
        },
        "836f1ca8b7d04bbbbd6d202f566c3fc8": {
          "model_module": "@jupyter-widgets/controls",
          "model_name": "DescriptionStyleModel",
          "model_module_version": "1.5.0",
          "state": {
            "_model_module": "@jupyter-widgets/controls",
            "_model_module_version": "1.5.0",
            "_model_name": "DescriptionStyleModel",
            "_view_count": null,
            "_view_module": "@jupyter-widgets/base",
            "_view_module_version": "1.2.0",
            "_view_name": "StyleView",
            "description_width": ""
          }
        },
        "4639895f5ca24cbeace3a6e33dc28541": {
          "model_module": "@jupyter-widgets/base",
          "model_name": "LayoutModel",
          "model_module_version": "1.2.0",
          "state": {
            "_model_module": "@jupyter-widgets/base",
            "_model_module_version": "1.2.0",
            "_model_name": "LayoutModel",
            "_view_count": null,
            "_view_module": "@jupyter-widgets/base",
            "_view_module_version": "1.2.0",
            "_view_name": "LayoutView",
            "align_content": null,
            "align_items": null,
            "align_self": null,
            "border": null,
            "bottom": null,
            "display": null,
            "flex": null,
            "flex_flow": null,
            "grid_area": null,
            "grid_auto_columns": null,
            "grid_auto_flow": null,
            "grid_auto_rows": null,
            "grid_column": null,
            "grid_gap": null,
            "grid_row": null,
            "grid_template_areas": null,
            "grid_template_columns": null,
            "grid_template_rows": null,
            "height": null,
            "justify_content": null,
            "justify_items": null,
            "left": null,
            "margin": null,
            "max_height": null,
            "max_width": null,
            "min_height": null,
            "min_width": null,
            "object_fit": null,
            "object_position": null,
            "order": null,
            "overflow": null,
            "overflow_x": null,
            "overflow_y": null,
            "padding": null,
            "right": null,
            "top": null,
            "visibility": null,
            "width": null
          }
        },
        "1495ca68417a479ca573b3cf96dfc92c": {
          "model_module": "@jupyter-widgets/controls",
          "model_name": "ProgressStyleModel",
          "model_module_version": "1.5.0",
          "state": {
            "_model_module": "@jupyter-widgets/controls",
            "_model_module_version": "1.5.0",
            "_model_name": "ProgressStyleModel",
            "_view_count": null,
            "_view_module": "@jupyter-widgets/base",
            "_view_module_version": "1.2.0",
            "_view_name": "StyleView",
            "bar_color": null,
            "description_width": ""
          }
        },
        "9c781e4a03e746858510e0e4060c1302": {
          "model_module": "@jupyter-widgets/base",
          "model_name": "LayoutModel",
          "model_module_version": "1.2.0",
          "state": {
            "_model_module": "@jupyter-widgets/base",
            "_model_module_version": "1.2.0",
            "_model_name": "LayoutModel",
            "_view_count": null,
            "_view_module": "@jupyter-widgets/base",
            "_view_module_version": "1.2.0",
            "_view_name": "LayoutView",
            "align_content": null,
            "align_items": null,
            "align_self": null,
            "border": null,
            "bottom": null,
            "display": null,
            "flex": null,
            "flex_flow": null,
            "grid_area": null,
            "grid_auto_columns": null,
            "grid_auto_flow": null,
            "grid_auto_rows": null,
            "grid_column": null,
            "grid_gap": null,
            "grid_row": null,
            "grid_template_areas": null,
            "grid_template_columns": null,
            "grid_template_rows": null,
            "height": null,
            "justify_content": null,
            "justify_items": null,
            "left": null,
            "margin": null,
            "max_height": null,
            "max_width": null,
            "min_height": null,
            "min_width": null,
            "object_fit": null,
            "object_position": null,
            "order": null,
            "overflow": null,
            "overflow_x": null,
            "overflow_y": null,
            "padding": null,
            "right": null,
            "top": null,
            "visibility": null,
            "width": null
          }
        },
        "64b0c7221b1642a5b8152107ec1e9014": {
          "model_module": "@jupyter-widgets/controls",
          "model_name": "DescriptionStyleModel",
          "model_module_version": "1.5.0",
          "state": {
            "_model_module": "@jupyter-widgets/controls",
            "_model_module_version": "1.5.0",
            "_model_name": "DescriptionStyleModel",
            "_view_count": null,
            "_view_module": "@jupyter-widgets/base",
            "_view_module_version": "1.2.0",
            "_view_name": "StyleView",
            "description_width": ""
          }
        },
        "7dd5730e31814256aa80d48e05c0bd86": {
          "model_module": "@jupyter-widgets/controls",
          "model_name": "HBoxModel",
          "model_module_version": "1.5.0",
          "state": {
            "_dom_classes": [],
            "_model_module": "@jupyter-widgets/controls",
            "_model_module_version": "1.5.0",
            "_model_name": "HBoxModel",
            "_view_count": null,
            "_view_module": "@jupyter-widgets/controls",
            "_view_module_version": "1.5.0",
            "_view_name": "HBoxView",
            "box_style": "",
            "children": [
              "IPY_MODEL_50a11fbd095d4c4484786a00ed12ef8a",
              "IPY_MODEL_d19771e91f80475ea39b824d9453efd0",
              "IPY_MODEL_cd1624cf21b14eb99d06345962081a58"
            ],
            "layout": "IPY_MODEL_204f00f0c5e440de82f00a7a9e270f9b"
          }
        },
        "50a11fbd095d4c4484786a00ed12ef8a": {
          "model_module": "@jupyter-widgets/controls",
          "model_name": "HTMLModel",
          "model_module_version": "1.5.0",
          "state": {
            "_dom_classes": [],
            "_model_module": "@jupyter-widgets/controls",
            "_model_module_version": "1.5.0",
            "_model_name": "HTMLModel",
            "_view_count": null,
            "_view_module": "@jupyter-widgets/controls",
            "_view_module_version": "1.5.0",
            "_view_name": "HTMLView",
            "description": "",
            "description_tooltip": null,
            "layout": "IPY_MODEL_02ac291f1ced4e5887153ed5f7c09432",
            "placeholder": "​",
            "style": "IPY_MODEL_87e4511c889c42feae9a23e9b0ade69f",
            "value": "Generating embeddings: 100%"
          }
        },
        "d19771e91f80475ea39b824d9453efd0": {
          "model_module": "@jupyter-widgets/controls",
          "model_name": "FloatProgressModel",
          "model_module_version": "1.5.0",
          "state": {
            "_dom_classes": [],
            "_model_module": "@jupyter-widgets/controls",
            "_model_module_version": "1.5.0",
            "_model_name": "FloatProgressModel",
            "_view_count": null,
            "_view_module": "@jupyter-widgets/controls",
            "_view_module_version": "1.5.0",
            "_view_name": "ProgressView",
            "bar_style": "success",
            "description": "",
            "description_tooltip": null,
            "layout": "IPY_MODEL_9c61bf4d7fa44a349b08aa6592355052",
            "max": 1,
            "min": 0,
            "orientation": "horizontal",
            "style": "IPY_MODEL_b394741e92fa410f9b509657e410bb75",
            "value": 1
          }
        },
        "cd1624cf21b14eb99d06345962081a58": {
          "model_module": "@jupyter-widgets/controls",
          "model_name": "HTMLModel",
          "model_module_version": "1.5.0",
          "state": {
            "_dom_classes": [],
            "_model_module": "@jupyter-widgets/controls",
            "_model_module_version": "1.5.0",
            "_model_name": "HTMLModel",
            "_view_count": null,
            "_view_module": "@jupyter-widgets/controls",
            "_view_module_version": "1.5.0",
            "_view_name": "HTMLView",
            "description": "",
            "description_tooltip": null,
            "layout": "IPY_MODEL_196e69269dcc4392b1b0a3ea799995a2",
            "placeholder": "​",
            "style": "IPY_MODEL_3d5ab562691e40eaa487d421793db6da",
            "value": " 1/1 [00:00&lt;00:00,  1.30it/s]"
          }
        },
        "204f00f0c5e440de82f00a7a9e270f9b": {
          "model_module": "@jupyter-widgets/base",
          "model_name": "LayoutModel",
          "model_module_version": "1.2.0",
          "state": {
            "_model_module": "@jupyter-widgets/base",
            "_model_module_version": "1.2.0",
            "_model_name": "LayoutModel",
            "_view_count": null,
            "_view_module": "@jupyter-widgets/base",
            "_view_module_version": "1.2.0",
            "_view_name": "LayoutView",
            "align_content": null,
            "align_items": null,
            "align_self": null,
            "border": null,
            "bottom": null,
            "display": null,
            "flex": null,
            "flex_flow": null,
            "grid_area": null,
            "grid_auto_columns": null,
            "grid_auto_flow": null,
            "grid_auto_rows": null,
            "grid_column": null,
            "grid_gap": null,
            "grid_row": null,
            "grid_template_areas": null,
            "grid_template_columns": null,
            "grid_template_rows": null,
            "height": null,
            "justify_content": null,
            "justify_items": null,
            "left": null,
            "margin": null,
            "max_height": null,
            "max_width": null,
            "min_height": null,
            "min_width": null,
            "object_fit": null,
            "object_position": null,
            "order": null,
            "overflow": null,
            "overflow_x": null,
            "overflow_y": null,
            "padding": null,
            "right": null,
            "top": null,
            "visibility": null,
            "width": null
          }
        },
        "02ac291f1ced4e5887153ed5f7c09432": {
          "model_module": "@jupyter-widgets/base",
          "model_name": "LayoutModel",
          "model_module_version": "1.2.0",
          "state": {
            "_model_module": "@jupyter-widgets/base",
            "_model_module_version": "1.2.0",
            "_model_name": "LayoutModel",
            "_view_count": null,
            "_view_module": "@jupyter-widgets/base",
            "_view_module_version": "1.2.0",
            "_view_name": "LayoutView",
            "align_content": null,
            "align_items": null,
            "align_self": null,
            "border": null,
            "bottom": null,
            "display": null,
            "flex": null,
            "flex_flow": null,
            "grid_area": null,
            "grid_auto_columns": null,
            "grid_auto_flow": null,
            "grid_auto_rows": null,
            "grid_column": null,
            "grid_gap": null,
            "grid_row": null,
            "grid_template_areas": null,
            "grid_template_columns": null,
            "grid_template_rows": null,
            "height": null,
            "justify_content": null,
            "justify_items": null,
            "left": null,
            "margin": null,
            "max_height": null,
            "max_width": null,
            "min_height": null,
            "min_width": null,
            "object_fit": null,
            "object_position": null,
            "order": null,
            "overflow": null,
            "overflow_x": null,
            "overflow_y": null,
            "padding": null,
            "right": null,
            "top": null,
            "visibility": null,
            "width": null
          }
        },
        "87e4511c889c42feae9a23e9b0ade69f": {
          "model_module": "@jupyter-widgets/controls",
          "model_name": "DescriptionStyleModel",
          "model_module_version": "1.5.0",
          "state": {
            "_model_module": "@jupyter-widgets/controls",
            "_model_module_version": "1.5.0",
            "_model_name": "DescriptionStyleModel",
            "_view_count": null,
            "_view_module": "@jupyter-widgets/base",
            "_view_module_version": "1.2.0",
            "_view_name": "StyleView",
            "description_width": ""
          }
        },
        "9c61bf4d7fa44a349b08aa6592355052": {
          "model_module": "@jupyter-widgets/base",
          "model_name": "LayoutModel",
          "model_module_version": "1.2.0",
          "state": {
            "_model_module": "@jupyter-widgets/base",
            "_model_module_version": "1.2.0",
            "_model_name": "LayoutModel",
            "_view_count": null,
            "_view_module": "@jupyter-widgets/base",
            "_view_module_version": "1.2.0",
            "_view_name": "LayoutView",
            "align_content": null,
            "align_items": null,
            "align_self": null,
            "border": null,
            "bottom": null,
            "display": null,
            "flex": null,
            "flex_flow": null,
            "grid_area": null,
            "grid_auto_columns": null,
            "grid_auto_flow": null,
            "grid_auto_rows": null,
            "grid_column": null,
            "grid_gap": null,
            "grid_row": null,
            "grid_template_areas": null,
            "grid_template_columns": null,
            "grid_template_rows": null,
            "height": null,
            "justify_content": null,
            "justify_items": null,
            "left": null,
            "margin": null,
            "max_height": null,
            "max_width": null,
            "min_height": null,
            "min_width": null,
            "object_fit": null,
            "object_position": null,
            "order": null,
            "overflow": null,
            "overflow_x": null,
            "overflow_y": null,
            "padding": null,
            "right": null,
            "top": null,
            "visibility": null,
            "width": null
          }
        },
        "b394741e92fa410f9b509657e410bb75": {
          "model_module": "@jupyter-widgets/controls",
          "model_name": "ProgressStyleModel",
          "model_module_version": "1.5.0",
          "state": {
            "_model_module": "@jupyter-widgets/controls",
            "_model_module_version": "1.5.0",
            "_model_name": "ProgressStyleModel",
            "_view_count": null,
            "_view_module": "@jupyter-widgets/base",
            "_view_module_version": "1.2.0",
            "_view_name": "StyleView",
            "bar_color": null,
            "description_width": ""
          }
        },
        "196e69269dcc4392b1b0a3ea799995a2": {
          "model_module": "@jupyter-widgets/base",
          "model_name": "LayoutModel",
          "model_module_version": "1.2.0",
          "state": {
            "_model_module": "@jupyter-widgets/base",
            "_model_module_version": "1.2.0",
            "_model_name": "LayoutModel",
            "_view_count": null,
            "_view_module": "@jupyter-widgets/base",
            "_view_module_version": "1.2.0",
            "_view_name": "LayoutView",
            "align_content": null,
            "align_items": null,
            "align_self": null,
            "border": null,
            "bottom": null,
            "display": null,
            "flex": null,
            "flex_flow": null,
            "grid_area": null,
            "grid_auto_columns": null,
            "grid_auto_flow": null,
            "grid_auto_rows": null,
            "grid_column": null,
            "grid_gap": null,
            "grid_row": null,
            "grid_template_areas": null,
            "grid_template_columns": null,
            "grid_template_rows": null,
            "height": null,
            "justify_content": null,
            "justify_items": null,
            "left": null,
            "margin": null,
            "max_height": null,
            "max_width": null,
            "min_height": null,
            "min_width": null,
            "object_fit": null,
            "object_position": null,
            "order": null,
            "overflow": null,
            "overflow_x": null,
            "overflow_y": null,
            "padding": null,
            "right": null,
            "top": null,
            "visibility": null,
            "width": null
          }
        },
        "3d5ab562691e40eaa487d421793db6da": {
          "model_module": "@jupyter-widgets/controls",
          "model_name": "DescriptionStyleModel",
          "model_module_version": "1.5.0",
          "state": {
            "_model_module": "@jupyter-widgets/controls",
            "_model_module_version": "1.5.0",
            "_model_name": "DescriptionStyleModel",
            "_view_count": null,
            "_view_module": "@jupyter-widgets/base",
            "_view_module_version": "1.2.0",
            "_view_name": "StyleView",
            "description_width": ""
          }
        }
      }
    }
  },
  "nbformat": 4,
  "nbformat_minor": 0
}